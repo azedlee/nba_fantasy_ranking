{
 "cells": [
  {
   "cell_type": "code",
   "execution_count": 36,
   "metadata": {
    "collapsed": true
   },
   "outputs": [],
   "source": [
    "import pandas as pd\n",
    "import numpy as np\n",
    "import requests\n",
    "import time\n",
    "from scrapy.selector import Selector\n",
    "from scrapy.http import HtmlResponse\n",
    "from selenium import webdriver\n",
    "from bs4 import BeautifulSoup\n",
    "import json\n",
    "\n",
    "chromedriver = \"/Users/edwardlee/Desktop/chromedriver\""
   ]
  },
  {
   "cell_type": "code",
   "execution_count": 37,
   "metadata": {
    "collapsed": true
   },
   "outputs": [],
   "source": [
    "browser = webdriver.Chrome(executable_path = chromedriver)"
   ]
  },
  {
   "cell_type": "code",
   "execution_count": 3,
   "metadata": {
    "collapsed": true
   },
   "outputs": [],
   "source": [
    "# Get all years for 1996-2016\n",
    "browser.get('http://stats.nba.com/league/player/')\n",
    "HTML = browser.page_source\n",
    "year_data = Selector(text=HTML).xpath(\"//select[@name='Season']/option/text()\").extract()\n",
    "time.sleep(2)\n",
    "\n",
    "# Get all years for gamelogs from 1947-2016\n",
    "browser.get('http://stats.nba.com/league/player/#!/gamelogs/')\n",
    "HTML_logs = browser.page_source\n",
    "logs_year = Selector(text=HTML_logs).xpath(\"//select[@name='Season']/option/text()\").extract()\n",
    "time.sleep(2)\n",
    "\n",
    "# Remove first array that says \"All Season\"\n",
    "logs_year = logs_year[1:]"
   ]
  },
  {
   "cell_type": "code",
   "execution_count": 4,
   "metadata": {
    "collapsed": true
   },
   "outputs": [],
   "source": [
    "### MERGE ALL GAME LOGS FROM 1996-97 to 2015-16\n",
    "\n",
    "all_game_logs = []\n",
    "\n",
    "for year in year_data:\n",
    "    csv_file = '/Users/edwardlee/Desktop/PROJECTS/NBA Fantasy Project/datasets/gamelogs/gamelogs_%s.csv' % year\n",
    "    df = pd.read_csv(csv_file)\n",
    "    df.drop('Unnamed: 0', axis=1, inplace=True)\n",
    "    df['SEASON'] = [year for i in range(df.shape[0])]\n",
    "    all_game_logs.append(df)\n",
    "    \n",
    "gamelogs_df = pd.concat(all_game_logs)\n",
    "save_csv = '/Users/edwardlee/Desktop/PROJECTS/NBA Fantasy Project/datasets/merged/all_gamelogs.csv'\n",
    "gamelogs_df.to_csv(save_csv)"
   ]
  },
  {
   "cell_type": "code",
   "execution_count": 38,
   "metadata": {
    "collapsed": false
   },
   "outputs": [],
   "source": [
    "gamelogs_df = pd.read_csv('/Users/edwardlee/Desktop/PROJECTS/NBA Fantasy Project/rank_project/merged/all_gamelogs.csv')"
   ]
  },
  {
   "cell_type": "code",
   "execution_count": 39,
   "metadata": {
    "collapsed": true
   },
   "outputs": [],
   "source": [
    "# Removed unwanted columns and percentages unneeded for analysis\n",
    "gamelogs_df.drop(['Unnamed: 0', 'SEASON_ID', 'TEAM_ABBREVIATION', 'FG_PCT', 'FG3_PCT', 'FT_PCT', 'VIDEO_AVAILABLE'], axis=1, inplace=True)"
   ]
  },
  {
   "cell_type": "code",
   "execution_count": 40,
   "metadata": {
    "collapsed": false
   },
   "outputs": [
    {
     "data": {
      "text/html": [
       "<div>\n",
       "<table border=\"1\" class=\"dataframe\">\n",
       "  <thead>\n",
       "    <tr style=\"text-align: right;\">\n",
       "      <th></th>\n",
       "      <th>PLAYER_ID</th>\n",
       "      <th>PLAYER_NAME</th>\n",
       "      <th>TEAM_NAME</th>\n",
       "      <th>GAME_ID</th>\n",
       "      <th>GAME_DATE</th>\n",
       "      <th>MATCHUP</th>\n",
       "      <th>WL</th>\n",
       "      <th>MIN</th>\n",
       "      <th>FGM</th>\n",
       "      <th>FGA</th>\n",
       "      <th>...</th>\n",
       "      <th>DREB</th>\n",
       "      <th>REB</th>\n",
       "      <th>AST</th>\n",
       "      <th>STL</th>\n",
       "      <th>BLK</th>\n",
       "      <th>TOV</th>\n",
       "      <th>PF</th>\n",
       "      <th>PTS</th>\n",
       "      <th>PLUS_MINUS</th>\n",
       "      <th>SEASON</th>\n",
       "    </tr>\n",
       "  </thead>\n",
       "  <tbody>\n",
       "    <tr>\n",
       "      <th>0</th>\n",
       "      <td>204067</td>\n",
       "      <td>Jarell Eddie</td>\n",
       "      <td>Washington Wizards</td>\n",
       "      <td>21501221</td>\n",
       "      <td>2016-04-13</td>\n",
       "      <td>WAS vs. ATL</td>\n",
       "      <td>W</td>\n",
       "      <td>21</td>\n",
       "      <td>2</td>\n",
       "      <td>5</td>\n",
       "      <td>...</td>\n",
       "      <td>4</td>\n",
       "      <td>5</td>\n",
       "      <td>1</td>\n",
       "      <td>1</td>\n",
       "      <td>0</td>\n",
       "      <td>0</td>\n",
       "      <td>1</td>\n",
       "      <td>7</td>\n",
       "      <td>-3</td>\n",
       "      <td>2015-16</td>\n",
       "    </tr>\n",
       "    <tr>\n",
       "      <th>1</th>\n",
       "      <td>202066</td>\n",
       "      <td>Garrett Temple</td>\n",
       "      <td>Washington Wizards</td>\n",
       "      <td>21501221</td>\n",
       "      <td>2016-04-13</td>\n",
       "      <td>WAS vs. ATL</td>\n",
       "      <td>W</td>\n",
       "      <td>16</td>\n",
       "      <td>4</td>\n",
       "      <td>7</td>\n",
       "      <td>...</td>\n",
       "      <td>1</td>\n",
       "      <td>1</td>\n",
       "      <td>1</td>\n",
       "      <td>1</td>\n",
       "      <td>1</td>\n",
       "      <td>6</td>\n",
       "      <td>0</td>\n",
       "      <td>12</td>\n",
       "      <td>-20</td>\n",
       "      <td>2015-16</td>\n",
       "    </tr>\n",
       "  </tbody>\n",
       "</table>\n",
       "<p>2 rows × 25 columns</p>\n",
       "</div>"
      ],
      "text/plain": [
       "   PLAYER_ID     PLAYER_NAME           TEAM_NAME   GAME_ID   GAME_DATE  \\\n",
       "0     204067    Jarell Eddie  Washington Wizards  21501221  2016-04-13   \n",
       "1     202066  Garrett Temple  Washington Wizards  21501221  2016-04-13   \n",
       "\n",
       "       MATCHUP WL  MIN  FGM  FGA   ...     DREB  REB  AST  STL  BLK  TOV  PF  \\\n",
       "0  WAS vs. ATL  W   21    2    5   ...        4    5    1    1    0    0   1   \n",
       "1  WAS vs. ATL  W   16    4    7   ...        1    1    1    1    1    6   0   \n",
       "\n",
       "   PTS  PLUS_MINUS   SEASON  \n",
       "0    7          -3  2015-16  \n",
       "1   12         -20  2015-16  \n",
       "\n",
       "[2 rows x 25 columns]"
      ]
     },
     "execution_count": 40,
     "metadata": {},
     "output_type": "execute_result"
    }
   ],
   "source": [
    "gamelogs_df.head(2)"
   ]
  },
  {
   "cell_type": "code",
   "execution_count": 41,
   "metadata": {
    "collapsed": false
   },
   "outputs": [
    {
     "name": "stdout",
     "output_type": "stream",
     "text": [
      "<class 'pandas.core.frame.DataFrame'>\n",
      "RangeIndex: 481327 entries, 0 to 481326\n",
      "Data columns (total 25 columns):\n",
      "PLAYER_ID      481327 non-null int64\n",
      "PLAYER_NAME    481327 non-null object\n",
      "TEAM_NAME      481327 non-null object\n",
      "GAME_ID        481327 non-null int64\n",
      "GAME_DATE      481327 non-null object\n",
      "MATCHUP        481327 non-null object\n",
      "WL             481327 non-null object\n",
      "MIN            481327 non-null int64\n",
      "FGM            481327 non-null int64\n",
      "FGA            481327 non-null int64\n",
      "FG3M           481327 non-null int64\n",
      "FG3A           481327 non-null int64\n",
      "FTM            481327 non-null int64\n",
      "FTA            481327 non-null int64\n",
      "OREB           481327 non-null int64\n",
      "DREB           481327 non-null int64\n",
      "REB            481327 non-null int64\n",
      "AST            481327 non-null int64\n",
      "STL            481327 non-null int64\n",
      "BLK            481327 non-null int64\n",
      "TOV            481327 non-null int64\n",
      "PF             481327 non-null int64\n",
      "PTS            481327 non-null int64\n",
      "PLUS_MINUS     481327 non-null int64\n",
      "SEASON         481327 non-null object\n",
      "dtypes: int64(19), object(6)\n",
      "memory usage: 91.8+ MB\n"
     ]
    }
   ],
   "source": [
    "gamelogs_df.info()"
   ]
  },
  {
   "cell_type": "code",
   "execution_count": 42,
   "metadata": {
    "collapsed": false
   },
   "outputs": [],
   "source": [
    "# Add in new column with FP calculation\n",
    "gamelogs_df['FP'] = (gamelogs_df['FGM'] * 1.0) - ((gamelogs_df['FGA']-gamelogs_df['FGM']) * (9./11.)) + (gamelogs_df['FTM'] * 1.0) - \\\n",
    "((gamelogs_df['FTA']-gamelogs_df['FTM']) * (3./1.)) + (gamelogs_df['FG3M'] * 0.5) + (gamelogs_df['PTS'] * 1.0) + (gamelogs_df['REB'] * 1.2) + \\\n",
    "(gamelogs_df['AST'] * 1.5) + (gamelogs_df['STL'] * 2.0) + (gamelogs_df['BLK'] * 2.0) - (gamelogs_df['TOV'] * 1.0)"
   ]
  },
  {
   "cell_type": "code",
   "execution_count": 43,
   "metadata": {
    "collapsed": false
   },
   "outputs": [
    {
     "data": {
      "text/html": [
       "<div>\n",
       "<table border=\"1\" class=\"dataframe\">\n",
       "  <thead>\n",
       "    <tr style=\"text-align: right;\">\n",
       "      <th></th>\n",
       "      <th>PLAYER_ID</th>\n",
       "      <th>PLAYER_NAME</th>\n",
       "      <th>TEAM_NAME</th>\n",
       "      <th>GAME_ID</th>\n",
       "      <th>GAME_DATE</th>\n",
       "      <th>MATCHUP</th>\n",
       "      <th>WL</th>\n",
       "      <th>MIN</th>\n",
       "      <th>FGM</th>\n",
       "      <th>FGA</th>\n",
       "      <th>...</th>\n",
       "      <th>REB</th>\n",
       "      <th>AST</th>\n",
       "      <th>STL</th>\n",
       "      <th>BLK</th>\n",
       "      <th>TOV</th>\n",
       "      <th>PF</th>\n",
       "      <th>PTS</th>\n",
       "      <th>PLUS_MINUS</th>\n",
       "      <th>SEASON</th>\n",
       "      <th>FP</th>\n",
       "    </tr>\n",
       "  </thead>\n",
       "  <tbody>\n",
       "    <tr>\n",
       "      <th>261603</th>\n",
       "      <td>977</td>\n",
       "      <td>Kobe Bryant</td>\n",
       "      <td>Los Angeles Lakers</td>\n",
       "      <td>20500591</td>\n",
       "      <td>2006-01-22</td>\n",
       "      <td>LAL vs. TOR</td>\n",
       "      <td>W</td>\n",
       "      <td>42</td>\n",
       "      <td>28</td>\n",
       "      <td>46</td>\n",
       "      <td>...</td>\n",
       "      <td>6</td>\n",
       "      <td>2</td>\n",
       "      <td>3</td>\n",
       "      <td>1</td>\n",
       "      <td>3</td>\n",
       "      <td>1</td>\n",
       "      <td>81</td>\n",
       "      <td>25</td>\n",
       "      <td>2005-06</td>\n",
       "      <td>124.972727</td>\n",
       "    </tr>\n",
       "    <tr>\n",
       "      <th>8366</th>\n",
       "      <td>203076</td>\n",
       "      <td>Anthony Davis</td>\n",
       "      <td>New Orleans Pelicans</td>\n",
       "      <td>21500823</td>\n",
       "      <td>2016-02-21</td>\n",
       "      <td>NOP @ DET</td>\n",
       "      <td>W</td>\n",
       "      <td>43</td>\n",
       "      <td>24</td>\n",
       "      <td>34</td>\n",
       "      <td>...</td>\n",
       "      <td>20</td>\n",
       "      <td>4</td>\n",
       "      <td>0</td>\n",
       "      <td>1</td>\n",
       "      <td>2</td>\n",
       "      <td>1</td>\n",
       "      <td>59</td>\n",
       "      <td>17</td>\n",
       "      <td>2015-16</td>\n",
       "      <td>111.818182</td>\n",
       "    </tr>\n",
       "    <tr>\n",
       "      <th>197747</th>\n",
       "      <td>2405</td>\n",
       "      <td>Amar'e Stoudemire</td>\n",
       "      <td>Phoenix Suns</td>\n",
       "      <td>20800051</td>\n",
       "      <td>2008-11-05</td>\n",
       "      <td>PHX @ IND</td>\n",
       "      <td>W</td>\n",
       "      <td>44</td>\n",
       "      <td>17</td>\n",
       "      <td>21</td>\n",
       "      <td>...</td>\n",
       "      <td>11</td>\n",
       "      <td>6</td>\n",
       "      <td>5</td>\n",
       "      <td>2</td>\n",
       "      <td>4</td>\n",
       "      <td>3</td>\n",
       "      <td>49</td>\n",
       "      <td>11</td>\n",
       "      <td>2008-09</td>\n",
       "      <td>109.927273</td>\n",
       "    </tr>\n",
       "    <tr>\n",
       "      <th>294032</th>\n",
       "      <td>1717</td>\n",
       "      <td>Dirk Nowitzki</td>\n",
       "      <td>Dallas Mavericks</td>\n",
       "      <td>20400222</td>\n",
       "      <td>2004-12-02</td>\n",
       "      <td>DAL vs. HOU</td>\n",
       "      <td>W</td>\n",
       "      <td>49</td>\n",
       "      <td>15</td>\n",
       "      <td>32</td>\n",
       "      <td>...</td>\n",
       "      <td>16</td>\n",
       "      <td>2</td>\n",
       "      <td>3</td>\n",
       "      <td>4</td>\n",
       "      <td>1</td>\n",
       "      <td>2</td>\n",
       "      <td>53</td>\n",
       "      <td>12</td>\n",
       "      <td>2004-05</td>\n",
       "      <td>108.290909</td>\n",
       "    </tr>\n",
       "    <tr>\n",
       "      <th>228812</th>\n",
       "      <td>977</td>\n",
       "      <td>Kobe Bryant</td>\n",
       "      <td>Los Angeles Lakers</td>\n",
       "      <td>20600977</td>\n",
       "      <td>2007-03-16</td>\n",
       "      <td>LAL vs. POR</td>\n",
       "      <td>W</td>\n",
       "      <td>50</td>\n",
       "      <td>23</td>\n",
       "      <td>39</td>\n",
       "      <td>...</td>\n",
       "      <td>7</td>\n",
       "      <td>3</td>\n",
       "      <td>3</td>\n",
       "      <td>0</td>\n",
       "      <td>2</td>\n",
       "      <td>3</td>\n",
       "      <td>65</td>\n",
       "      <td>4</td>\n",
       "      <td>2006-07</td>\n",
       "      <td>103.809091</td>\n",
       "    </tr>\n",
       "  </tbody>\n",
       "</table>\n",
       "<p>5 rows × 26 columns</p>\n",
       "</div>"
      ],
      "text/plain": [
       "        PLAYER_ID        PLAYER_NAME             TEAM_NAME   GAME_ID  \\\n",
       "261603        977        Kobe Bryant    Los Angeles Lakers  20500591   \n",
       "8366       203076      Anthony Davis  New Orleans Pelicans  21500823   \n",
       "197747       2405  Amar'e Stoudemire          Phoenix Suns  20800051   \n",
       "294032       1717      Dirk Nowitzki      Dallas Mavericks  20400222   \n",
       "228812        977        Kobe Bryant    Los Angeles Lakers  20600977   \n",
       "\n",
       "         GAME_DATE      MATCHUP WL  MIN  FGM  FGA     ...      REB  AST  STL  \\\n",
       "261603  2006-01-22  LAL vs. TOR  W   42   28   46     ...        6    2    3   \n",
       "8366    2016-02-21    NOP @ DET  W   43   24   34     ...       20    4    0   \n",
       "197747  2008-11-05    PHX @ IND  W   44   17   21     ...       11    6    5   \n",
       "294032  2004-12-02  DAL vs. HOU  W   49   15   32     ...       16    2    3   \n",
       "228812  2007-03-16  LAL vs. POR  W   50   23   39     ...        7    3    3   \n",
       "\n",
       "        BLK  TOV  PF  PTS  PLUS_MINUS   SEASON          FP  \n",
       "261603    1    3   1   81          25  2005-06  124.972727  \n",
       "8366      1    2   1   59          17  2015-16  111.818182  \n",
       "197747    2    4   3   49          11  2008-09  109.927273  \n",
       "294032    4    1   2   53          12  2004-05  108.290909  \n",
       "228812    0    2   3   65           4  2006-07  103.809091  \n",
       "\n",
       "[5 rows x 26 columns]"
      ]
     },
     "execution_count": 43,
     "metadata": {},
     "output_type": "execute_result"
    }
   ],
   "source": [
    "gamelogs_df.sort_values(['FP'], ascending=False).head(5)"
   ]
  },
  {
   "cell_type": "code",
   "execution_count": 44,
   "metadata": {
    "collapsed": false
   },
   "outputs": [],
   "source": [
    "gamelogs_df.to_csv('/Users/edwardlee/Desktop/PROJECTS/NBA Fantasy Project/rank_project/merged/gamelogs_clean_withFP.csv')"
   ]
  },
  {
   "cell_type": "code",
   "execution_count": 45,
   "metadata": {
    "collapsed": false
   },
   "outputs": [],
   "source": [
    "gamelogs_target = pd.read_csv('/Users/edwardlee/Desktop/PROJECTS/NBA Fantasy Project/rank_project/merged/gamelogs_clean_withFP.csv')"
   ]
  },
  {
   "cell_type": "code",
   "execution_count": 46,
   "metadata": {
    "collapsed": true
   },
   "outputs": [],
   "source": [
    "# Groupby by season, player id, player name and fantasy points with agg function of mean, std and var\n",
    "gamelogs_mean_fp = gamelogs_target.groupby(['SEASON','PLAYER_ID','PLAYER_NAME'])[['FP']].mean().reset_index().rename(columns={'FP':'fp_mean'})\n",
    "gamelogs_std_fp = gamelogs_target.groupby(['SEASON','PLAYER_ID','PLAYER_NAME'])[['FP']].std().reset_index().rename(columns={'FP':'fp_std'})\n",
    "gamelogs_var_fp = gamelogs_target.groupby(['SEASON','PLAYER_ID','PLAYER_NAME'])[['FP']].var().reset_index().rename(columns={'FP':'fp_var'})"
   ]
  },
  {
   "cell_type": "code",
   "execution_count": 47,
   "metadata": {
    "collapsed": true
   },
   "outputs": [],
   "source": [
    "# Groupby by season, team, fantasy points with agg function of mean, std, var\n",
    "gamelogs_team_mean_fp = gamelogs_target.groupby(['SEASON', 'TEAM_NAME', 'GAME_DATE'])[['FP']].mean().reset_index().rename(columns={'FP':'fp_team_mean'})"
   ]
  },
  {
   "cell_type": "code",
   "execution_count": 48,
   "metadata": {
    "collapsed": true
   },
   "outputs": [],
   "source": [
    "# Name is only indicator, so don't need that for now, can remove\n",
    "gamelogs_std_fp = gamelogs_std_fp[['PLAYER_ID','SEASON','fp_std']]\n",
    "gamelogs_var_fp = gamelogs_var_fp[['PLAYER_ID','SEASON','fp_var']]"
   ]
  },
  {
   "cell_type": "code",
   "execution_count": 49,
   "metadata": {
    "collapsed": true
   },
   "outputs": [],
   "source": [
    "# Merge mean, std and var together\n",
    "gamelogs_target_final = gamelogs_mean_fp.merge(gamelogs_std_fp, how='outer', on=['PLAYER_ID', 'SEASON']).merge(gamelogs_var_fp, how='outer', on=['PLAYER_ID', 'SEASON'])"
   ]
  },
  {
   "cell_type": "code",
   "execution_count": 50,
   "metadata": {
    "collapsed": false
   },
   "outputs": [
    {
     "data": {
      "text/html": [
       "<div>\n",
       "<table border=\"1\" class=\"dataframe\">\n",
       "  <thead>\n",
       "    <tr style=\"text-align: right;\">\n",
       "      <th></th>\n",
       "      <th>SEASON</th>\n",
       "      <th>PLAYER_ID</th>\n",
       "      <th>PLAYER_NAME</th>\n",
       "      <th>fp_mean</th>\n",
       "      <th>fp_std</th>\n",
       "      <th>fp_var</th>\n",
       "    </tr>\n",
       "  </thead>\n",
       "  <tbody>\n",
       "    <tr>\n",
       "      <th>0</th>\n",
       "      <td>1996-97</td>\n",
       "      <td>2</td>\n",
       "      <td>Byron Scott</td>\n",
       "      <td>12.213579</td>\n",
       "      <td>9.329127</td>\n",
       "      <td>87.032602</td>\n",
       "    </tr>\n",
       "    <tr>\n",
       "      <th>1</th>\n",
       "      <td>1996-97</td>\n",
       "      <td>3</td>\n",
       "      <td>Grant Long</td>\n",
       "      <td>10.892867</td>\n",
       "      <td>8.042089</td>\n",
       "      <td>64.675203</td>\n",
       "    </tr>\n",
       "    <tr>\n",
       "      <th>2</th>\n",
       "      <td>1996-97</td>\n",
       "      <td>7</td>\n",
       "      <td>Dan Schayes</td>\n",
       "      <td>7.250505</td>\n",
       "      <td>9.791436</td>\n",
       "      <td>95.872218</td>\n",
       "    </tr>\n",
       "    <tr>\n",
       "      <th>3</th>\n",
       "      <td>1996-97</td>\n",
       "      <td>9</td>\n",
       "      <td>Sedale Threatt</td>\n",
       "      <td>8.388745</td>\n",
       "      <td>7.748233</td>\n",
       "      <td>60.035115</td>\n",
       "    </tr>\n",
       "    <tr>\n",
       "      <th>4</th>\n",
       "      <td>1996-97</td>\n",
       "      <td>15</td>\n",
       "      <td>Eric Piatkowski</td>\n",
       "      <td>10.481818</td>\n",
       "      <td>8.831147</td>\n",
       "      <td>77.989155</td>\n",
       "    </tr>\n",
       "  </tbody>\n",
       "</table>\n",
       "</div>"
      ],
      "text/plain": [
       "    SEASON  PLAYER_ID      PLAYER_NAME    fp_mean    fp_std     fp_var\n",
       "0  1996-97          2      Byron Scott  12.213579  9.329127  87.032602\n",
       "1  1996-97          3       Grant Long  10.892867  8.042089  64.675203\n",
       "2  1996-97          7      Dan Schayes   7.250505  9.791436  95.872218\n",
       "3  1996-97          9   Sedale Threatt   8.388745  7.748233  60.035115\n",
       "4  1996-97         15  Eric Piatkowski  10.481818  8.831147  77.989155"
      ]
     },
     "execution_count": 50,
     "metadata": {},
     "output_type": "execute_result"
    }
   ],
   "source": [
    "gamelogs_target_final.head()"
   ]
  },
  {
   "cell_type": "code",
   "execution_count": 51,
   "metadata": {
    "collapsed": false
   },
   "outputs": [
    {
     "data": {
      "text/html": [
       "<div>\n",
       "<table border=\"1\" class=\"dataframe\">\n",
       "  <thead>\n",
       "    <tr style=\"text-align: right;\">\n",
       "      <th></th>\n",
       "      <th>SEASON</th>\n",
       "      <th>TEAM_NAME</th>\n",
       "      <th>GAME_DATE</th>\n",
       "      <th>fp_team_mean</th>\n",
       "    </tr>\n",
       "  </thead>\n",
       "  <tbody>\n",
       "    <tr>\n",
       "      <th>0</th>\n",
       "      <td>1996-97</td>\n",
       "      <td>Atlanta Hawks</td>\n",
       "      <td>1996-11-01</td>\n",
       "      <td>18.419192</td>\n",
       "    </tr>\n",
       "    <tr>\n",
       "      <th>1</th>\n",
       "      <td>1996-97</td>\n",
       "      <td>Atlanta Hawks</td>\n",
       "      <td>1996-11-02</td>\n",
       "      <td>13.151818</td>\n",
       "    </tr>\n",
       "    <tr>\n",
       "      <th>2</th>\n",
       "      <td>1996-97</td>\n",
       "      <td>Atlanta Hawks</td>\n",
       "      <td>1996-11-04</td>\n",
       "      <td>17.039669</td>\n",
       "    </tr>\n",
       "    <tr>\n",
       "      <th>3</th>\n",
       "      <td>1996-97</td>\n",
       "      <td>Atlanta Hawks</td>\n",
       "      <td>1996-11-05</td>\n",
       "      <td>21.091736</td>\n",
       "    </tr>\n",
       "    <tr>\n",
       "      <th>4</th>\n",
       "      <td>1996-97</td>\n",
       "      <td>Atlanta Hawks</td>\n",
       "      <td>1996-11-07</td>\n",
       "      <td>19.642045</td>\n",
       "    </tr>\n",
       "  </tbody>\n",
       "</table>\n",
       "</div>"
      ],
      "text/plain": [
       "    SEASON      TEAM_NAME   GAME_DATE  fp_team_mean\n",
       "0  1996-97  Atlanta Hawks  1996-11-01     18.419192\n",
       "1  1996-97  Atlanta Hawks  1996-11-02     13.151818\n",
       "2  1996-97  Atlanta Hawks  1996-11-04     17.039669\n",
       "3  1996-97  Atlanta Hawks  1996-11-05     21.091736\n",
       "4  1996-97  Atlanta Hawks  1996-11-07     19.642045"
      ]
     },
     "execution_count": 51,
     "metadata": {},
     "output_type": "execute_result"
    }
   ],
   "source": [
    "gamelogs_team_mean_fp.head()"
   ]
  },
  {
   "cell_type": "code",
   "execution_count": 52,
   "metadata": {
    "collapsed": false
   },
   "outputs": [],
   "source": [
    "# Save dummy target variables together\n",
    "gamelogs_target_final.to_csv('/Users/edwardlee/Desktop/PROJECTS/NBA Fantasy Project/rank_project/completed/gamelogs_fp_targets.csv')"
   ]
  },
  {
   "cell_type": "code",
   "execution_count": 53,
   "metadata": {
    "collapsed": true
   },
   "outputs": [],
   "source": [
    "# Save team fp mean\n",
    "gamelogs_team_mean_fp.to_csv('/Users/edwardlee/Desktop/PROJECTS/NBA Fantasy Project/rank_project/completed/gamelogs_fp_team_mean.csv')"
   ]
  },
  {
   "cell_type": "code",
   "execution_count": null,
   "metadata": {
    "collapsed": true
   },
   "outputs": [],
   "source": []
  }
 ],
 "metadata": {
  "anaconda-cloud": {},
  "kernelspec": {
   "display_name": "Python [dsi]",
   "language": "python",
   "name": "Python [dsi]"
  },
  "language_info": {
   "codemirror_mode": {
    "name": "ipython",
    "version": 2
   },
   "file_extension": ".py",
   "mimetype": "text/x-python",
   "name": "python",
   "nbconvert_exporter": "python",
   "pygments_lexer": "ipython2",
   "version": "2.7.12"
  }
 },
 "nbformat": 4,
 "nbformat_minor": 0
}
