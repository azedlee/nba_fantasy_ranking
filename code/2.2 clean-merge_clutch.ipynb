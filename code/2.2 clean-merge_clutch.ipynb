{
 "cells": [
  {
   "cell_type": "code",
   "execution_count": 1,
   "metadata": {
    "collapsed": true
   },
   "outputs": [],
   "source": [
    "import pandas as pd\n",
    "import numpy as np\n",
    "import requests\n",
    "import time\n",
    "from scrapy.selector import Selector\n",
    "from scrapy.http import HtmlResponse\n",
    "from selenium import webdriver\n",
    "from bs4 import BeautifulSoup\n",
    "import json\n",
    "\n",
    "chromedriver = \"/Users/edwardlee/Desktop/chromedriver\""
   ]
  },
  {
   "cell_type": "code",
   "execution_count": 2,
   "metadata": {
    "collapsed": true
   },
   "outputs": [],
   "source": [
    "browser = webdriver.Chrome(executable_path = chromedriver)"
   ]
  },
  {
   "cell_type": "code",
   "execution_count": 3,
   "metadata": {
    "collapsed": true
   },
   "outputs": [],
   "source": [
    "# Get all years for 1996-2016\n",
    "browser.get('http://stats.nba.com/league/player/')\n",
    "HTML = browser.page_source\n",
    "year_data = Selector(text=HTML).xpath(\"//select[@name='Season']/option/text()\").extract()\n",
    "time.sleep(2)"
   ]
  },
  {
   "cell_type": "code",
   "execution_count": 4,
   "metadata": {
    "collapsed": true
   },
   "outputs": [],
   "source": [
    "clutch_para = ['Base', 'Advanced', 'Misc', 'Scoring', 'Usage']"
   ]
  },
  {
   "cell_type": "code",
   "execution_count": 57,
   "metadata": {
    "collapsed": true
   },
   "outputs": [],
   "source": [
    "clutch_base_cols = [u'PLAYER_ID', u'PLAYER_NAME',\n",
    "       u'AGE', u'GP', u'W', u'L', u'MIN',\n",
    "       u'FGM', u'FGA', u'FG_PCT', u'FG3M', u'FG3A', u'FG3_PCT', u'FTM', u'FTA', u'FT_PCT',\n",
    "       u'OREB', u'DREB', u'REB', u'AST', u'TOV', u'STL', u'BLK',\n",
    "       u'BLKA', u'PF', u'PFD', u'PTS', u'PLUS_MINUS', u'DD2', u'TD3', 'SEASON']"
   ]
  },
  {
   "cell_type": "code",
   "execution_count": 29,
   "metadata": {
    "collapsed": true
   },
   "outputs": [],
   "source": [
    "clutch_adv_cols = [u'PLAYER_ID', u'OFF_RATING', u'DEF_RATING', u'NET_RATING', u'AST_PCT', u'AST_TO',\n",
    "       u'AST_RATIO', u'OREB_PCT', u'DREB_PCT', u'REB_PCT', u'TM_TOV_PCT',\n",
    "       u'EFG_PCT', u'TS_PCT', u'USG_PCT', u'PACE', u'PIE', u'FGM_PG', 'SEASON']"
   ]
  },
  {
   "cell_type": "code",
   "execution_count": 30,
   "metadata": {
    "collapsed": true
   },
   "outputs": [],
   "source": [
    "clutch_misc_cols = [u'PLAYER_ID', u'PTS_OFF_TOV', u'PTS_2ND_CHANCE', u'PTS_FB', u'PTS_PAINT',\n",
    "       u'OPP_PTS_OFF_TOV', u'OPP_PTS_2ND_CHANCE', u'OPP_PTS_FB',\n",
    "       u'OPP_PTS_PAINT', 'SEASON']"
   ]
  },
  {
   "cell_type": "code",
   "execution_count": 31,
   "metadata": {
    "collapsed": true
   },
   "outputs": [],
   "source": [
    "clutch_scoring_cols = [u'PLAYER_ID', u'PCT_FGA_2PT', u'PCT_FGA_3PT', u'PCT_PTS_2PT', u'PCT_PTS_2PT_MR',\n",
    "       u'PCT_PTS_3PT', u'PCT_PTS_FB', u'PCT_PTS_FT', u'PCT_PTS_OFF_TOV',\n",
    "       u'PCT_PTS_PAINT', u'PCT_AST_2PM', u'PCT_UAST_2PM', u'PCT_AST_3PM',\n",
    "       u'PCT_UAST_3PM', u'PCT_AST_FGM', u'PCT_UAST_FGM', 'SEASON']"
   ]
  },
  {
   "cell_type": "code",
   "execution_count": 32,
   "metadata": {
    "collapsed": true
   },
   "outputs": [],
   "source": [
    "clutch_usage_cols = [u'PLAYER_ID', u'PCT_FGM', u'PCT_FGA', u'PCT_FG3M', u'PCT_FG3A',\n",
    "       u'PCT_FTM', u'PCT_FTA', u'PCT_OREB', u'PCT_DREB', u'PCT_REB',\n",
    "       u'PCT_AST', u'PCT_TOV', u'PCT_STL', u'PCT_BLK', u'PCT_BLKA', u'PCT_PF',\n",
    "       u'PCT_PFD', u'PCT_PTS', 'SEASON']"
   ]
  },
  {
   "cell_type": "code",
   "execution_count": 58,
   "metadata": {
    "collapsed": false
   },
   "outputs": [],
   "source": [
    "### Merge per season/year by all stats/columns in that season\n",
    "for year in year_data:\n",
    "    base_csv = pd.read_csv('/Users/edwardlee/Desktop/PROJECTS/NBA Fantasy Project/rank_project/clutch_stats/Base_%s_per48.csv' % (year))\n",
    "    adv_csv = pd.read_csv('/Users/edwardlee/Desktop/PROJECTS/NBA Fantasy Project/rank_project/clutch_stats/Advanced_%s_per48.csv' % (year))\n",
    "    misc_csv = pd.read_csv('/Users/edwardlee/Desktop/PROJECTS/NBA Fantasy Project/rank_project/clutch_stats/Misc_%s_per48.csv' % (year))\n",
    "    score_csv = pd.read_csv('/Users/edwardlee/Desktop/PROJECTS/NBA Fantasy Project/rank_project/clutch_stats/Scoring_%s_per48.csv' % (year))\n",
    "    usage_csv = pd.read_csv('/Users/edwardlee/Desktop/PROJECTS/NBA Fantasy Project/rank_project/clutch_stats/Usage_%s_per48.csv' % (year))\n",
    "    \n",
    "    base_csv['SEASON'] = [year for i in range(base_csv.shape[0])]\n",
    "    adv_csv['SEASON'] = [year for i in range(adv_csv.shape[0])]\n",
    "    misc_csv['SEASON'] = [year for i in range(misc_csv.shape[0])]\n",
    "    score_csv['SEASON'] = [year for i in range(score_csv.shape[0])]\n",
    "    usage_csv['SEASON'] = [year for i in range(usage_csv.shape[0])]\n",
    "    \n",
    "    base_csv  = base_csv[clutch_base_cols]\n",
    "    adv_csv   = adv_csv[clutch_adv_cols]\n",
    "    misc_csv  = misc_csv[clutch_misc_cols]\n",
    "    score_csv = score_csv[clutch_scoring_cols]\n",
    "    usage_csv = usage_csv[clutch_usage_cols]\n",
    "    \n",
    "    df_merge = base_csv.merge(adv_csv, on=['PLAYER_ID', 'SEASON'], how='outer') \\\n",
    "                       .merge(misc_csv, on=['PLAYER_ID', 'SEASON'], how='outer') \\\n",
    "                       .merge(score_csv, on=['PLAYER_ID', 'SEASON'], how='outer') \\\n",
    "                       .merge(usage_csv, on=['PLAYER_ID', 'SEASON'], how='outer')\n",
    "    \n",
    "    link = '/Users/edwardlee/Desktop/PROJECTS/NBA Fantasy Project/rank_project/clutch_stats/clutch_merged_%s.csv' % year\n",
    "    df_merge.to_csv(link)"
   ]
  },
  {
   "cell_type": "code",
   "execution_count": 59,
   "metadata": {
    "collapsed": true
   },
   "outputs": [],
   "source": [
    "### Save all columns that I want to aggregate the ranks together, in case 'Unnamed: 0' column appears\n",
    "clutch_all_cols = [u'GP', u'W', u'L', u'MIN',\n",
    "       u'FGM', u'FGMiss', u'FG_PCT', u'FG3M', u'FG3Miss', u'FG3_PCT', u'FTM', u'FTMiss', u'FT_PCT',\n",
    "       u'OREB', u'DREB', u'REB', u'AST', u'TOV', u'STL', u'BLK',\n",
    "       u'BLKA', u'PF', u'PFD', u'PTS', u'PLUS_MINUS', u'DD2', u'TD3',\n",
    "       u'OFF_RATING', u'DEF_RATING', u'NET_RATING', u'AST_PCT', u'AST_TO',\n",
    "       u'AST_RATIO', u'OREB_PCT', u'DREB_PCT', u'REB_PCT', u'TM_TOV_PCT',\n",
    "       u'EFG_PCT', u'TS_PCT', u'USG_PCT', u'PACE', u'PIE', u'FGM_PG',\n",
    "       u'PTS_OFF_TOV', u'PTS_2ND_CHANCE', u'PTS_FB', u'PTS_PAINT',\n",
    "       u'OPP_PTS_OFF_TOV', u'OPP_PTS_2ND_CHANCE', u'OPP_PTS_FB',\n",
    "       u'OPP_PTS_PAINT',u'PCT_FGA_2PT', u'PCT_FGA_3PT', u'PCT_PTS_2PT', u'PCT_PTS_2PT_MR',\n",
    "       u'PCT_PTS_3PT', u'PCT_PTS_FB', u'PCT_PTS_FT', u'PCT_PTS_OFF_TOV',\n",
    "       u'PCT_PTS_PAINT', u'PCT_AST_2PM', u'PCT_UAST_2PM', u'PCT_AST_3PM',\n",
    "       u'PCT_UAST_3PM', u'PCT_AST_FGM', u'PCT_UAST_FGM', u'PCT_FGM', u'PCT_FGA', u'PCT_FG3M', u'PCT_FG3A',\n",
    "       u'PCT_FTM', u'PCT_FTA', u'PCT_OREB', u'PCT_DREB', u'PCT_REB',\n",
    "       u'PCT_AST', u'PCT_TOV', u'PCT_STL', u'PCT_BLK', u'PCT_BLKA', u'PCT_PF',\n",
    "       u'PCT_PFD', u'PCT_PTS']"
   ]
  },
  {
   "cell_type": "code",
   "execution_count": 76,
   "metadata": {
    "collapsed": false
   },
   "outputs": [],
   "source": [
    "### Sort values by every column and give a rank and aggregate rank per player per season\n",
    "for year in year_data:\n",
    "    csv = '/Users/edwardlee/Desktop/PROJECTS/NBA Fantasy Project/rank_project/clutch_stats/clutch_merged_%s.csv' % year\n",
    "    df_tmp = pd.read_csv(csv)\n",
    "    \n",
    "    # Added Columns Misses and use Misses instead of Attempts\n",
    "    df_tmp['FGMiss'] = df_tmp['FGA'] - df_tmp['FGM']\n",
    "    df_tmp['FTMiss'] = df_tmp['FTA'] - df_tmp['FTM']\n",
    "    df_tmp['FG3Miss'] = df_tmp['FG3A'] - df_tmp['FG3M']\n",
    "    \n",
    "    # Limit only to players with more than 10 games played and more than 20 total minutes\n",
    "    df_tmp = df_tmp[(df_tmp['GP'] > 10) & (df_tmp['MIN'] > 20.)]\n",
    "    \n",
    "    # Rank by sort values of every column and creating a new column\n",
    "    for col in clutch_all_cols:\n",
    "        if (col == 'L') or (col == 'TOV') or (col == 'PF') or (col == 'PCT_TOV') or (col == 'PCT_PF'):\n",
    "            df_tmp.sort_values(col, ascending=True, inplace=True)\n",
    "            new_col_name = 'rank_%s' % col\n",
    "            df_tmp[new_col_name] = [i+1 for i in range(df_tmp.shape[0])]\n",
    "        elif (col == 'OPP_PTS_OFF_TOV') or (col == 'OPP_PTS_2ND_CHANCE') or (col == 'OPP_PTS_FB') or (col == 'OPP_PTS_PAINT'):\n",
    "            df_tmp.sort_values(col, ascending=True, inplace=True)\n",
    "            new_col_name = 'rank_%s' % col\n",
    "            df_tmp[new_col_name] = [i+1 for i in range(df_tmp.shape[0])]\n",
    "        else:\n",
    "            df_tmp.sort_values(col, ascending=False, inplace=True)\n",
    "            new_col_name = 'rank_%s' % col\n",
    "            df_tmp[new_col_name] = [i+1 for i in range(df_tmp.shape[0])]\n",
    "    \n",
    "    # Save all rank columns into a list\n",
    "    ranked_cols = ['PLAYER_ID', 'PLAYER_NAME', 'SEASON']\n",
    "    for col in df_tmp.columns:\n",
    "        if 'rank' in col:\n",
    "            ranked_cols.append(col)\n",
    "    \n",
    "    # Aggregate every players rank\n",
    "    df_tmp = df_tmp[ranked_cols]\n",
    "    df_tmp['agg_rank'] = df_tmp.ix[:,2:].mean(axis=1)\n",
    "    \n",
    "    link = '/Users/edwardlee/Desktop/PROJECTS/NBA Fantasy Project/rank_project/clutch_stats/clutch_merged_%s_withRANK.csv' % year\n",
    "    df_tmp.to_csv(link)"
   ]
  },
  {
   "cell_type": "code",
   "execution_count": 83,
   "metadata": {
    "collapsed": true
   },
   "outputs": [],
   "source": [
    "### MERGE CLUTCH STATS BY CATEGORIES FROM 1996-97 to 2015-16\n",
    "\n",
    "clutch_rank = []\n",
    "\n",
    "for year in year_data:\n",
    "    csv_file = '/Users/edwardlee/Desktop/PROJECTS/NBA Fantasy Project/rank_project/clutch_stats/clutch_merged_%s_withRANK.csv' % year\n",
    "    df = pd.read_csv(csv_file)\n",
    "    df.drop('Unnamed: 0', axis=1, inplace=True)\n",
    "\n",
    "    clutch_rank.append(df)\n",
    "\n",
    "clutch_rank_df = pd.concat(clutch_rank)\n",
    "clutch_rank_df.to_csv('/Users/edwardlee/Desktop/PROJECTS/NBA Fantasy Project/rank_project/completed/clutch_rank_target.csv')"
   ]
  },
  {
   "cell_type": "code",
   "execution_count": null,
   "metadata": {
    "collapsed": true
   },
   "outputs": [],
   "source": []
  }
 ],
 "metadata": {
  "anaconda-cloud": {},
  "kernelspec": {
   "display_name": "Python [dsi]",
   "language": "python",
   "name": "Python [dsi]"
  },
  "language_info": {
   "codemirror_mode": {
    "name": "ipython",
    "version": 2
   },
   "file_extension": ".py",
   "mimetype": "text/x-python",
   "name": "python",
   "nbconvert_exporter": "python",
   "pygments_lexer": "ipython2",
   "version": "2.7.12"
  }
 },
 "nbformat": 4,
 "nbformat_minor": 0
}
