{
 "cells": [
  {
   "cell_type": "code",
   "execution_count": 1,
   "metadata": {
    "collapsed": true
   },
   "outputs": [],
   "source": [
    "import pandas as pd\n",
    "import numpy as np\n",
    "import requests\n",
    "import time\n",
    "from scrapy.selector import Selector\n",
    "from scrapy.http import HtmlResponse\n",
    "from selenium import webdriver\n",
    "from bs4 import BeautifulSoup\n",
    "import json\n",
    "\n",
    "chromedriver = \"/Users/edwardlee/Desktop/chromedriver\""
   ]
  },
  {
   "cell_type": "code",
   "execution_count": 2,
   "metadata": {
    "collapsed": true
   },
   "outputs": [],
   "source": [
    "browser = webdriver.Chrome(executable_path = chromedriver)"
   ]
  },
  {
   "cell_type": "code",
   "execution_count": 3,
   "metadata": {
    "collapsed": true
   },
   "outputs": [],
   "source": [
    "# Get all years for 1996-2016\n",
    "browser.get('http://stats.nba.com/league/player/')\n",
    "HTML = browser.page_source\n",
    "year_data = Selector(text=HTML).xpath(\"//select[@name='Season']/option/text()\").extract()\n",
    "time.sleep(2)"
   ]
  },
  {
   "cell_type": "code",
   "execution_count": 4,
   "metadata": {
    "collapsed": true
   },
   "outputs": [],
   "source": [
    "# Set parameters\n",
    "general_para  = ['Base', 'Advanced', 'Misc', 'Scoring', 'Usage', 'Opponent', 'Defense']\n",
    "shoot_para = ['Base', 'Opponent']\n",
    "# playtype_para = ['Transition', 'Isolation', 'PRBallHandler', 'PRRollman', 'Postup', 'Spotup', 'Handoff', 'Cut', 'OffScreen', 'OffRebound', 'Misc', 'hustle']"
   ]
  },
  {
   "cell_type": "code",
   "execution_count": 6,
   "metadata": {
    "collapsed": false
   },
   "outputs": [],
   "source": [
    "### MERGE ALL PLAYER BIOS FROM 1996-97 to 2015-16\n",
    "\n",
    "all_bios_df = []\n",
    "\n",
    "for year in year_data:\n",
    "    csv_file = '/Users/edwardlee/Desktop/PROJECTS/NBA Fantasy Project/rank_project/player_bios/bios_%s.csv' % year\n",
    "    df = pd.read_csv(csv_file)\n",
    "    df.drop('Unnamed: 0', axis=1, inplace=True)\n",
    "    df['SEASON'] = [year for i in range(df.shape[0])]\n",
    "    all_bios_df.append(df)\n",
    "\n",
    "bios_df = pd.concat(all_bios_df)\n",
    "save_csv = '/Users/edwardlee/Desktop/PROJECTS/NBA Fantasy Project/rank_project/merged/all_bios.csv'\n",
    "bios_df.to_csv(save_csv)"
   ]
  },
  {
   "cell_type": "code",
   "execution_count": 7,
   "metadata": {
    "collapsed": false
   },
   "outputs": [],
   "source": [
    "### MERGE ALL SHOOTING STATS FROM 1996-97 to 2015-16\n",
    "\n",
    "shooting = []\n",
    "opp_shooting = []\n",
    "\n",
    "for stats in shoot_para:\n",
    "    for year in year_data:\n",
    "        csv_file = '/Users/edwardlee/Desktop/PROJECTS/NBA Fantasy Project/rank_project/shooting_stats/%s_%s.csv' % (stats, year)\n",
    "        df = pd.read_csv(csv_file)\n",
    "        df.drop('Unnamed: 0', axis=1, inplace=True)\n",
    "        df['SEASON'] = [year for i in range(df.shape[0])]\n",
    "        if stats == 'Base':\n",
    "            shooting.append(df)\n",
    "        elif stats == 'Opponent':\n",
    "            opp_shooting.append(df)\n",
    "\n",
    "shoot_df = pd.concat(shooting)\n",
    "opp_shoot_df = pd.concat(opp_shooting)\n",
    "save_csv = '/Users/edwardlee/Desktop/PROJECTS/NBA Fantasy Project/rank_project/merged/all_shoot.csv'\n",
    "save_csv1 = '/Users/edwardlee/Desktop/PROJECTS/NBA Fantasy Project/rank_project/merged/all_opp_shoot.csv'\n",
    "shoot_df.to_csv(save_csv)\n",
    "opp_shoot_df.to_csv(save_csv1)"
   ]
  },
  {
   "cell_type": "code",
   "execution_count": 374,
   "metadata": {
    "collapsed": false
   },
   "outputs": [
    {
     "data": {
      "text/plain": [
       "Index([u'Unnamed: 0', u'PLAYER_ID', u'PLAYER_NAME', u'TEAM_ID',\n",
       "       u'TEAM_ABBREVIATION', u'AGE', u'FGM_less_than_5_ft',\n",
       "       u'FGA_less_than_5_ft', u'FG_PCT_less_than_5_ft', u'FGM_5-9_ft',\n",
       "       u'FGA_5-9_ft', u'FG_PCT_5-9_ft', u'FGM_10-14_ft', u'FGA_10-14_ft',\n",
       "       u'FG_PCT_10-14_ft', u'FGM_15-19_ft', u'FGA_15-19_ft',\n",
       "       u'FG_PCT_15-19_ft', u'FGM_20-24_ft', u'FGA_20-24_ft',\n",
       "       u'FG_PCT_20-24_ft', u'FGM_25-29_ft', u'FGA_25-29_ft',\n",
       "       u'FG_PCT_25-29_ft', u'FGM_30-34_ft', u'FGA_30-34_ft',\n",
       "       u'FG_PCT_30-34_ft', u'FGM_35-39_ft', u'FGA_35-39_ft',\n",
       "       u'FG_PCT_35-39_ft', u'FGM_40+_ft', u'FGA_40+_ft', u'FG_PCT_40+_ft',\n",
       "       u'SEASON'],\n",
       "      dtype='object')"
      ]
     },
     "execution_count": 374,
     "metadata": {},
     "output_type": "execute_result"
    }
   ],
   "source": [
    "shoot_df.columns"
   ]
  },
  {
   "cell_type": "code",
   "execution_count": 8,
   "metadata": {
    "collapsed": false
   },
   "outputs": [],
   "source": [
    "### MERGE TRADITIONAL STATS BY CATEGORIES FROM 1996-97 to 2015-16\n",
    "\n",
    "base     = []\n",
    "advanced = []\n",
    "misc     = []\n",
    "scoring  = []\n",
    "usage    = []\n",
    "opponent = []\n",
    "defense  = []\n",
    "\n",
    "for stats in general_para:\n",
    "    for year in year_data:\n",
    "        csv_file = '/Users/edwardlee/Desktop/PROJECTS/NBA Fantasy Project/rank_project/traditional_stats/%s_%s.csv' % (stats, year)\n",
    "        df = pd.read_csv(csv_file)\n",
    "        df.drop('Unnamed: 0', axis=1, inplace=True)\n",
    "        df['SEASON'] = [year for i in range(df.shape[0])]\n",
    "        df['win_share'] = \n",
    "        if stats == 'Base':\n",
    "            base.append(df)\n",
    "        elif stats == 'Advanced':\n",
    "            advanced.append(df)\n",
    "        elif stats == 'Misc':\n",
    "            misc.append(df)\n",
    "        elif stats == 'Scoring':\n",
    "            scoring.append(df)\n",
    "        elif stats == 'Usage':\n",
    "            usage.append(df)\n",
    "        elif stats == 'Opponent':\n",
    "            opponent.append(df)\n",
    "        elif stats == 'Defense':\n",
    "            defense.append(df)\n",
    "\n",
    "base_df     = pd.concat(base)\n",
    "advanced_df = pd.concat(advanced)\n",
    "misc_df     = pd.concat(misc)\n",
    "scoring_df  = pd.concat(scoring)\n",
    "usage_df    = pd.concat(usage)\n",
    "opponent_df = pd.concat(opponent)\n",
    "defense_df  = pd.concat(defense)\n",
    "base_df.to_csv('/Users/edwardlee/Desktop/PROJECTS/NBA Fantasy Project/rank_project/merged/all_traditional_base.csv')\n",
    "advanced_df.to_csv('/Users/edwardlee/Desktop/PROJECTS/NBA Fantasy Project/rank_project/merged/all_traditional_advanced.csv')\n",
    "misc_df.to_csv('/Users/edwardlee/Desktop/PROJECTS/NBA Fantasy Project/rank_project/merged/all_traditional_misc.csv')\n",
    "scoring_df.to_csv('/Users/edwardlee/Desktop/PROJECTS/NBA Fantasy Project/rank_project/merged/all_traditional_scoring.csv')\n",
    "usage_df.to_csv('/Users/edwardlee/Desktop/PROJECTS/NBA Fantasy Project/rank_project/merged/all_traditional_usage.csv')\n",
    "opponent_df.to_csv('/Users/edwardlee/Desktop/PROJECTS/NBA Fantasy Project/rank_project/merged/all_traditional_opponent.csv')\n",
    "defense_df.to_csv('/Users/edwardlee/Desktop/PROJECTS/NBA Fantasy Project/rank_project/merged/all_traditional_defense.csv')"
   ]
  },
  {
   "cell_type": "code",
   "execution_count": 10,
   "metadata": {
    "collapsed": true
   },
   "outputs": [],
   "source": [
    "### Merge Player Shooting and Opponent's Shooting\n",
    "shoot_df = pd.read_csv('/Users/edwardlee/Desktop/PROJECTS/NBA Fantasy Project/rank_project/merged/all_shoot.csv')\n",
    "opp_shoot_df = pd.read_csv('/Users/edwardlee/Desktop/PROJECTS/NBA Fantasy Project/rank_project/merged/all_opp_shoot.csv')"
   ]
  },
  {
   "cell_type": "code",
   "execution_count": 11,
   "metadata": {
    "collapsed": false
   },
   "outputs": [],
   "source": [
    "# Want these cols to merge into player shooting dataset\n",
    "opponent_col = ['PLAYER_ID', u'OPP_FGM_less_than_5_ft',\n",
    "       u'OPP_FGA_less_than_5_ft', u'OPP_FG_PCT_less_than_5_ft',\n",
    "       u'OPP_FGM_5-9_ft', u'OPP_FGA_5-9_ft', u'OPP_FG_PCT_5-9_ft',\n",
    "       u'OPP_FGM_10-14_ft', u'OPP_FGA_10-14_ft', u'OPP_FG_PCT_10-14_ft',\n",
    "       u'OPP_FGM_15-19_ft', u'OPP_FGA_15-19_ft', u'OPP_FG_PCT_15-19_ft',\n",
    "       u'OPP_FGM_20-24_ft', u'OPP_FGA_20-24_ft', u'OPP_FG_PCT_20-24_ft',\n",
    "       u'OPP_FGM_25-29_ft', u'OPP_FGA_25-29_ft', u'OPP_FG_PCT_25-29_ft',\n",
    "       u'OPP_FGM_30-34_ft', u'OPP_FGA_30-34_ft', u'OPP_FG_PCT_30-34_ft',\n",
    "       u'OPP_FGM_35-39_ft', u'OPP_FGA_35-39_ft', u'OPP_FG_PCT_35-39_ft',\n",
    "       u'OPP_FGM_40+_ft', u'OPP_FGA_40+_ft', u'OPP_FG_PCT_40+_ft', 'SEASON']\n",
    "\n",
    "opp_shoot_df = opp_shoot_df[wanted_col]"
   ]
  },
  {
   "cell_type": "code",
   "execution_count": 12,
   "metadata": {
    "collapsed": false
   },
   "outputs": [],
   "source": [
    "# Merge player shooting and opponent's shooting against the player together and save into csv\n",
    "complete_shoot = pd.merge(shoot_df, opp_shoot_df, how='inner', on=['PLAYER_ID', 'SEASON'])\n",
    "complete_shoot.drop(['Unnamed: 0', 'TEAM_ID'], axis=1, inplace=True)\n",
    "complete_shoot.to_csv('/Users/edwardlee/Desktop/PROJECTS/NBA Fantasy Project/rank_project/completed/merged_shooting.csv')"
   ]
  },
  {
   "cell_type": "code",
   "execution_count": 13,
   "metadata": {
    "collapsed": true
   },
   "outputs": [],
   "source": [
    "trad_base_df = pd.read_csv('/Users/edwardlee/Desktop/PROJECTS/NBA Fantasy Project/rank_project/merged/all_traditional_base.csv')\n",
    "trad_adv_df = pd.read_csv('/Users/edwardlee/Desktop/PROJECTS/NBA Fantasy Project/rank_project/merged/all_traditional_advanced.csv')\n",
    "trad_def_df = pd.read_csv('/Users/edwardlee/Desktop/PROJECTS/NBA Fantasy Project/rank_project/merged/all_traditional_defense.csv')\n",
    "trad_misc_df = pd.read_csv('/Users/edwardlee/Desktop/PROJECTS/NBA Fantasy Project/rank_project/merged/all_traditional_misc.csv')\n",
    "trad_opp_df = pd.read_csv('/Users/edwardlee/Desktop/PROJECTS/NBA Fantasy Project/rank_project/merged/all_traditional_opponent.csv')\n",
    "trad_score_df = pd.read_csv('/Users/edwardlee/Desktop/PROJECTS/NBA Fantasy Project/rank_project/merged/all_traditional_scoring.csv')\n",
    "trad_usage_df = pd.read_csv('/Users/edwardlee/Desktop/PROJECTS/NBA Fantasy Project/rank_project/merged/all_traditional_usage.csv')"
   ]
  },
  {
   "cell_type": "code",
   "execution_count": 14,
   "metadata": {
    "collapsed": false
   },
   "outputs": [
    {
     "data": {
      "text/plain": [
       "Index([u'Unnamed: 0', u'PLAYER_ID', u'PLAYER_NAME', u'TEAM_ID',\n",
       "       u'TEAM_ABBREVIATION', u'AGE', u'GP', u'W', u'L', u'W_PCT', u'MIN',\n",
       "       u'FGM', u'FGA', u'FG_PCT', u'FG3M', u'FG3A', u'FG3_PCT', u'FTM', u'FTA',\n",
       "       u'FT_PCT', u'OREB', u'DREB', u'REB', u'AST', u'TOV', u'STL', u'BLK',\n",
       "       u'BLKA', u'PF', u'PFD', u'PTS', u'PLUS_MINUS', u'DD2', u'TD3', u'CFID',\n",
       "       u'CFPARAMS', u'SEASON'],\n",
       "      dtype='object')"
      ]
     },
     "execution_count": 14,
     "metadata": {},
     "output_type": "execute_result"
    }
   ],
   "source": [
    "trad_base_df.columns"
   ]
  },
  {
   "cell_type": "code",
   "execution_count": 15,
   "metadata": {
    "collapsed": false,
    "scrolled": true
   },
   "outputs": [
    {
     "data": {
      "text/plain": [
       "Index([u'Unnamed: 0', u'PLAYER_ID', u'PLAYER_NAME', u'TEAM_ID',\n",
       "       u'TEAM_ABBREVIATION', u'AGE', u'GP', u'W', u'L', u'W_PCT', u'MIN',\n",
       "       u'OFF_RATING', u'DEF_RATING', u'NET_RATING', u'AST_PCT', u'AST_TO',\n",
       "       u'AST_RATIO', u'OREB_PCT', u'DREB_PCT', u'REB_PCT', u'TM_TOV_PCT',\n",
       "       u'EFG_PCT', u'TS_PCT', u'USG_PCT', u'PACE', u'PIE', u'FGM', u'FGA',\n",
       "       u'FGM_PG', u'FGA_PG', u'FG_PCT', u'CFID', u'CFPARAMS', u'SEASON'],\n",
       "      dtype='object')"
      ]
     },
     "execution_count": 15,
     "metadata": {},
     "output_type": "execute_result"
    }
   ],
   "source": [
    "trad_adv_df.columns"
   ]
  },
  {
   "cell_type": "code",
   "execution_count": 16,
   "metadata": {
    "collapsed": false,
    "scrolled": false
   },
   "outputs": [
    {
     "data": {
      "text/plain": [
       "Index([u'Unnamed: 0', u'PLAYER_ID', u'PLAYER_NAME', u'TEAM_ID',\n",
       "       u'TEAM_ABBREVIATION', u'AGE', u'GP', u'W', u'L', u'W_PCT', u'MIN',\n",
       "       u'DEF_RATING', u'DREB', u'DREB_PCT', u'PCT_DREB', u'STL', u'PCT_STL',\n",
       "       u'BLK', u'PCT_BLK', u'OPP_PTS_OFF_TOV', u'OPP_PTS_2ND_CHANCE',\n",
       "       u'OPP_PTS_FB', u'OPP_PTS_PAINT', u'DEF_WS', u'CFID', u'CFPARAMS',\n",
       "       u'SEASON'],\n",
       "      dtype='object')"
      ]
     },
     "execution_count": 16,
     "metadata": {},
     "output_type": "execute_result"
    }
   ],
   "source": [
    "trad_def_df.columns"
   ]
  },
  {
   "cell_type": "code",
   "execution_count": 17,
   "metadata": {
    "collapsed": false,
    "scrolled": true
   },
   "outputs": [
    {
     "data": {
      "text/plain": [
       "Index([u'Unnamed: 0', u'PLAYER_ID', u'PLAYER_NAME', u'TEAM_ID',\n",
       "       u'TEAM_ABBREVIATION', u'AGE', u'GP', u'W', u'L', u'W_PCT', u'MIN',\n",
       "       u'PTS_OFF_TOV', u'PTS_2ND_CHANCE', u'PTS_FB', u'PTS_PAINT',\n",
       "       u'OPP_PTS_OFF_TOV', u'OPP_PTS_2ND_CHANCE', u'OPP_PTS_FB',\n",
       "       u'OPP_PTS_PAINT', u'BLK', u'BLKA', u'PF', u'PFD', u'CFID', u'CFPARAMS',\n",
       "       u'SEASON'],\n",
       "      dtype='object')"
      ]
     },
     "execution_count": 17,
     "metadata": {},
     "output_type": "execute_result"
    }
   ],
   "source": [
    "trad_misc_df.columns"
   ]
  },
  {
   "cell_type": "code",
   "execution_count": 18,
   "metadata": {
    "collapsed": false,
    "scrolled": false
   },
   "outputs": [
    {
     "data": {
      "text/plain": [
       "Index([u'Unnamed: 0', u'GROUP_SET', u'TEAM_ID', u'TEAM_ABBREVIATION',\n",
       "       u'TEAM_NAME', u'VS_PLAYER_ID', u'VS_PLAYER_NAME', u'COURT_STATUS',\n",
       "       u'GP', u'W', u'L', u'W_PCT', u'MIN', u'OPP_FGM', u'OPP_FGA',\n",
       "       u'OPP_FG_PCT', u'OPP_FG3M', u'OPP_FG3A', u'OPP_FG3_PCT', u'OPP_FTM',\n",
       "       u'OPP_FTA', u'OPP_FT_PCT', u'OPP_OREB', u'OPP_DREB', u'OPP_REB',\n",
       "       u'OPP_AST', u'OPP_TOV', u'OPP_STL', u'OPP_BLK', u'OPP_BLKA', u'OPP_PF',\n",
       "       u'OPP_PFD', u'OPP_PTS', u'PLUS_MINUS', u'SEASON'],\n",
       "      dtype='object')"
      ]
     },
     "execution_count": 18,
     "metadata": {},
     "output_type": "execute_result"
    }
   ],
   "source": [
    "trad_opp_df.columns"
   ]
  },
  {
   "cell_type": "code",
   "execution_count": 19,
   "metadata": {
    "collapsed": false,
    "scrolled": true
   },
   "outputs": [
    {
     "data": {
      "text/plain": [
       "Index([u'Unnamed: 0', u'PLAYER_ID', u'PLAYER_NAME', u'TEAM_ID',\n",
       "       u'TEAM_ABBREVIATION', u'AGE', u'GP', u'W', u'L', u'W_PCT', u'MIN',\n",
       "       u'PCT_FGA_2PT', u'PCT_FGA_3PT', u'PCT_PTS_2PT', u'PCT_PTS_2PT_MR',\n",
       "       u'PCT_PTS_3PT', u'PCT_PTS_FB', u'PCT_PTS_FT', u'PCT_PTS_OFF_TOV',\n",
       "       u'PCT_PTS_PAINT', u'PCT_AST_2PM', u'PCT_UAST_2PM', u'PCT_AST_3PM',\n",
       "       u'PCT_UAST_3PM', u'PCT_AST_FGM', u'PCT_UAST_FGM', u'CFID', u'CFPARAMS',\n",
       "       u'SEASON'],\n",
       "      dtype='object')"
      ]
     },
     "execution_count": 19,
     "metadata": {},
     "output_type": "execute_result"
    }
   ],
   "source": [
    "trad_score_df.columns"
   ]
  },
  {
   "cell_type": "code",
   "execution_count": 20,
   "metadata": {
    "collapsed": false,
    "scrolled": true
   },
   "outputs": [
    {
     "data": {
      "text/plain": [
       "Index([u'Unnamed: 0', u'PLAYER_ID', u'PLAYER_NAME', u'TEAM_ID',\n",
       "       u'TEAM_ABBREVIATION', u'AGE', u'GP', u'W', u'L', u'W_PCT', u'MIN',\n",
       "       u'USG_PCT', u'PCT_FGM', u'PCT_FGA', u'PCT_FG3M', u'PCT_FG3A',\n",
       "       u'PCT_FTM', u'PCT_FTA', u'PCT_OREB', u'PCT_DREB', u'PCT_REB',\n",
       "       u'PCT_AST', u'PCT_TOV', u'PCT_STL', u'PCT_BLK', u'PCT_BLKA', u'PCT_PF',\n",
       "       u'PCT_PFD', u'PCT_PTS', u'CFID', u'CFPARAMS', u'SEASON'],\n",
       "      dtype='object')"
      ]
     },
     "execution_count": 20,
     "metadata": {},
     "output_type": "execute_result"
    }
   ],
   "source": [
    "trad_usage_df.columns"
   ]
  },
  {
   "cell_type": "code",
   "execution_count": 21,
   "metadata": {
    "collapsed": true
   },
   "outputs": [],
   "source": [
    "trad_base_cols = [u'PLAYER_ID', u'PLAYER_NAME',\n",
    "       u'TEAM_ABBREVIATION', u'AGE', u'GP', u'W', u'L', u'MIN',\n",
    "       u'FGM', u'FGA', u'FG3M', u'FG3A', u'FTM', u'FTA',\n",
    "       u'OREB', u'DREB', u'REB', u'AST', u'TOV', u'STL', u'BLK',\n",
    "       u'BLKA', u'PF', u'PFD', u'PTS', u'PLUS_MINUS', u'DD2', u'TD3', 'SEASON']"
   ]
  },
  {
   "cell_type": "code",
   "execution_count": 36,
   "metadata": {
    "collapsed": true
   },
   "outputs": [],
   "source": [
    "trad_adv_cols = [u'PLAYER_ID', u'OFF_RATING', u'DEF_RATING', u'NET_RATING', u'AST_PCT', u'AST_TO',\n",
    "       u'AST_RATIO', u'OREB_PCT', u'DREB_PCT', u'REB_PCT', u'TM_TOV_PCT',\n",
    "       u'EFG_PCT', u'TS_PCT', u'USG_PCT', u'PACE', u'PIE', u'FGM_PG', 'SEASON']"
   ]
  },
  {
   "cell_type": "code",
   "execution_count": 40,
   "metadata": {
    "collapsed": true
   },
   "outputs": [],
   "source": [
    "# All columns are in other columns except DEF_WS and DEF_WS is not a good predictor because the equation\n",
    "# is weighted by the team and not by the player's performance.\n",
    "# This dataset is completed removed\n",
    "# trad_def_cols = [u'PLAYER_ID', u'DEF_WS', 'SEASON']"
   ]
  },
  {
   "cell_type": "code",
   "execution_count": 41,
   "metadata": {
    "collapsed": true
   },
   "outputs": [],
   "source": [
    "trad_misc_cols = [u'PLAYER_ID', u'PTS_OFF_TOV', u'PTS_2ND_CHANCE', u'PTS_FB', u'PTS_PAINT',\n",
    "       u'OPP_PTS_OFF_TOV', u'OPP_PTS_2ND_CHANCE', u'OPP_PTS_FB',\n",
    "       u'OPP_PTS_PAINT', 'SEASON']"
   ]
  },
  {
   "cell_type": "code",
   "execution_count": 42,
   "metadata": {
    "collapsed": true
   },
   "outputs": [],
   "source": [
    "# trad_opp_cols = [u'VS_PLAYER_ID', u'OPP_FGM', u'OPP_FGA',\n",
    "#        u'OPP_FG_PCT', u'OPP_FG3M', u'OPP_FG3A', u'OPP_FG3_PCT', u'OPP_FTM',\n",
    "#        u'OPP_FTA', u'OPP_FT_PCT', u'OPP_OREB', u'OPP_DREB', u'OPP_REB',\n",
    "#        u'OPP_AST', u'OPP_TOV', u'OPP_STL', u'OPP_BLK', u'OPP_BLKA', u'OPP_PF',\n",
    "#        u'OPP_PFD', u'OPP_PTS', 'SEASON']"
   ]
  },
  {
   "cell_type": "code",
   "execution_count": 43,
   "metadata": {
    "collapsed": true
   },
   "outputs": [],
   "source": [
    "trad_score_cols = [u'PLAYER_ID', u'PCT_FGA_2PT', u'PCT_FGA_3PT', u'PCT_PTS_2PT', u'PCT_PTS_2PT_MR',\n",
    "       u'PCT_PTS_3PT', u'PCT_PTS_FB', u'PCT_PTS_FT', u'PCT_PTS_OFF_TOV',\n",
    "       u'PCT_PTS_PAINT', u'PCT_AST_2PM', u'PCT_UAST_2PM', u'PCT_AST_3PM',\n",
    "       u'PCT_UAST_3PM', u'PCT_AST_FGM', u'PCT_UAST_FGM', 'SEASON']"
   ]
  },
  {
   "cell_type": "code",
   "execution_count": 44,
   "metadata": {
    "collapsed": true
   },
   "outputs": [],
   "source": [
    "trad_usage_cols = [u'PLAYER_ID', u'PCT_FGM', u'PCT_FGA', u'PCT_FG3M', u'PCT_FG3A',\n",
    "       u'PCT_FTM', u'PCT_FTA', u'PCT_OREB', u'PCT_DREB', u'PCT_REB',\n",
    "       u'PCT_AST', u'PCT_TOV', u'PCT_STL', u'PCT_BLK', u'PCT_BLKA', u'PCT_PF',\n",
    "       u'PCT_PFD', u'PCT_PTS', 'SEASON']"
   ]
  },
  {
   "cell_type": "code",
   "execution_count": 375,
   "metadata": {
    "collapsed": true
   },
   "outputs": [],
   "source": [
    "shooting_cols = [u'PLAYER_ID', u'FGM_less_than_5_ft',\n",
    "       u'FGA_less_than_5_ft', u'FG_PCT_less_than_5_ft', u'FGM_5-9_ft',\n",
    "       u'FGA_5-9_ft', u'FG_PCT_5-9_ft', u'FGM_10-14_ft', u'FGA_10-14_ft',\n",
    "       u'FG_PCT_10-14_ft', u'FGM_15-19_ft', u'FGA_15-19_ft',\n",
    "       u'FG_PCT_15-19_ft', u'FGM_20-24_ft', u'FGA_20-24_ft',\n",
    "       u'FG_PCT_20-24_ft', u'FGM_25-29_ft', u'FGA_25-29_ft',\n",
    "       u'FG_PCT_25-29_ft', u'FGM_30-34_ft', u'FGA_30-34_ft',\n",
    "       u'FG_PCT_30-34_ft', u'FGM_35-39_ft', u'FGA_35-39_ft',\n",
    "       u'FG_PCT_35-39_ft', u'FGM_40+_ft', u'FGA_40+_ft', u'FG_PCT_40+_ft',\n",
    "       u'SEASON']"
   ]
  },
  {
   "cell_type": "code",
   "execution_count": 376,
   "metadata": {
    "collapsed": true
   },
   "outputs": [],
   "source": [
    "opp_shooting_cols = ['PLAYER_ID', u'OPP_FGM_less_than_5_ft',\n",
    "       u'OPP_FGA_less_than_5_ft', u'OPP_FG_PCT_less_than_5_ft',\n",
    "       u'OPP_FGM_5-9_ft', u'OPP_FGA_5-9_ft', u'OPP_FG_PCT_5-9_ft',\n",
    "       u'OPP_FGM_10-14_ft', u'OPP_FGA_10-14_ft', u'OPP_FG_PCT_10-14_ft',\n",
    "       u'OPP_FGM_15-19_ft', u'OPP_FGA_15-19_ft', u'OPP_FG_PCT_15-19_ft',\n",
    "       u'OPP_FGM_20-24_ft', u'OPP_FGA_20-24_ft', u'OPP_FG_PCT_20-24_ft',\n",
    "       u'OPP_FGM_25-29_ft', u'OPP_FGA_25-29_ft', u'OPP_FG_PCT_25-29_ft',\n",
    "       u'OPP_FGM_30-34_ft', u'OPP_FGA_30-34_ft', u'OPP_FG_PCT_30-34_ft',\n",
    "       u'OPP_FGM_35-39_ft', u'OPP_FGA_35-39_ft', u'OPP_FG_PCT_35-39_ft',\n",
    "       u'OPP_FGM_40+_ft', u'OPP_FGA_40+_ft', u'OPP_FG_PCT_40+_ft', 'SEASON']"
   ]
  },
  {
   "cell_type": "code",
   "execution_count": 45,
   "metadata": {
    "collapsed": false
   },
   "outputs": [],
   "source": [
    "# Update all previous dfs with similar column statistics and save them into a new df\n",
    "new_trad_base_df  = trad_base_df[trad_base_cols]\n",
    "new_trad_adv_df   = trad_adv_df[trad_adv_cols]\n",
    "# new_trad_def_df   = trad_def_df[trad_def_cols]\n",
    "new_trad_misc_df  = trad_misc_df[trad_misc_cols]\n",
    "# new_trad_opp_df   = trad_opp_df[trad_opp_cols]\n",
    "new_trad_score_df = trad_score_df[trad_score_cols]\n",
    "new_trad_usage_df = trad_usage_df[trad_usage_cols]"
   ]
  },
  {
   "cell_type": "code",
   "execution_count": 46,
   "metadata": {
    "collapsed": false,
    "scrolled": true
   },
   "outputs": [],
   "source": [
    "new_trad_opp_df.rename(columns={'VS_PLAYER_ID':'PLAYER_ID'}, inplace=True)"
   ]
  },
  {
   "cell_type": "code",
   "execution_count": 50,
   "metadata": {
    "collapsed": false
   },
   "outputs": [],
   "source": [
    "# Merge all columns for traditional stats together by PLAYER_ID\n",
    "final_trad_df = new_trad_base_df.merge(new_trad_adv_df, how='outer', on=['PLAYER_ID', 'SEASON']) \\\n",
    "#                 .merge(new_trad_def_df, how='outer', on=['PLAYER_ID', 'SEASON']) \\\n",
    "                .merge(new_trad_misc_df, how='outer', on=['PLAYER_ID', 'SEASON']) \\\n",
    "                .merge(new_trad_opp_df, how='outer', on=['PLAYER_ID', 'SEASON']) \\\n",
    "                .merge(new_trad_score_df, how='outer', on=['PLAYER_ID', 'SEASON']) \\\n",
    "                .merge(new_trad_usage_df, how='outer', on=['PLAYER_ID', 'SEASON'])"
   ]
  },
  {
   "cell_type": "code",
   "execution_count": 51,
   "metadata": {
    "collapsed": false
   },
   "outputs": [
    {
     "data": {
      "text/plain": [
       "(9675, 106)"
      ]
     },
     "execution_count": 51,
     "metadata": {},
     "output_type": "execute_result"
    }
   ],
   "source": [
    "final_trad_df.shape"
   ]
  },
  {
   "cell_type": "code",
   "execution_count": 57,
   "metadata": {
    "collapsed": true
   },
   "outputs": [],
   "source": [
    "final_trad_df.to_csv('/Users/edwardlee/Desktop/PROJECTS/NBA Fantasy Project/rank_project/completed/final_trad_all.csv')"
   ]
  },
  {
   "cell_type": "code",
   "execution_count": null,
   "metadata": {
    "collapsed": true
   },
   "outputs": [],
   "source": []
  }
 ],
 "metadata": {
  "kernelspec": {
   "display_name": "Python [dsi]",
   "language": "python",
   "name": "Python [dsi]"
  },
  "language_info": {
   "codemirror_mode": {
    "name": "ipython",
    "version": 2
   },
   "file_extension": ".py",
   "mimetype": "text/x-python",
   "name": "python",
   "nbconvert_exporter": "python",
   "pygments_lexer": "ipython2",
   "version": "2.7.12"
  }
 },
 "nbformat": 4,
 "nbformat_minor": 0
}
