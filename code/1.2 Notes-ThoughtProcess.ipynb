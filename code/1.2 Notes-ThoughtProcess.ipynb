{
 "cells": [
  {
   "cell_type": "markdown",
   "metadata": {},
   "source": [
    "# Describe your project\n",
    "\n",
    "By using all stats scrape-able on stats.nba.com, I will try to model and predict the best players in standard for the 2016-17 season NBA fantasy draft for standard 12 manager, 13 player leagues. Although cannot confirm until the end of the next season, I will use previous seasons to first predict the accuracy of my model."
   ]
  },
  {
   "cell_type": "markdown",
   "metadata": {},
   "source": [
    "# Current Problem\n",
    "\n",
    "Yahoo, ESPN and other fantasy basketball websites are fairly inaccurate on their pre-ranking system. It is quite well known that many advanced/knowledgeable/experienced players know to never follow any of the ranking system provided by Yahoo, ESPN, etc... because they are terribly inaccurate. From research, Yahoo, ESPN and many other sites use AccuScore.com as their base ranking system. Afterwards, each website has their own fantasy \"pro\" that will re-arrange and edit the ranking system. Third party fantasy \"guru\" websites also seem to work similarly, except they seem to have their own base ranking system and then edited on personal opinion. Regardless, all these websites do not have a non-biased, non-opinionated ranking system, which is understandable because ranking players correctly is extremely difficult and this seems like the current best way to do it.\n",
    "\n",
    "My goal is to beat all their ranking systems by creating a new way to look at how people should refer to drafting. Based on the last 20 seasons, I want to create a customizable grouping system, rather than labeling players on ranks. For example, in standard leagues there are 12 managers drafting 13 players each, which means that there are 13 rounds of drafting. I want to put the 13 best players in the current pool into each round bracket, provide their mean fantasy value per season, their standard deviation and variance in all their seasons. Based on these aspects, managers, especially new players, are able to understand what kind of player they are drafting and what kind of risks they will encounter. This, to me, is a much more accurate and effective way of drafting."
   ]
  },
  {
   "cell_type": "markdown",
   "metadata": {},
   "source": [
    "http://www.nfl.com/stats/categorystats?tabSeq=0&statisticCategory=PASSING&conference=null&season=2016&seasonType=REG&d-447263-s=PASSING_YARDS&d-447263-o=2&d-447263-n=1"
   ]
  },
  {
   "cell_type": "markdown",
   "metadata": {},
   "source": [
    "# Possible Targets\n",
    "- ~~Win shares for normal ranking system~~\n",
    "- Traditional ranking per Totals\n",
    "    - Base\n",
    "    - Advanced\n",
    "    - Misc\n",
    "    - Usage\n",
    "    - Score\n",
    "    - Shooting\n",
    "        - **Removed**: 30-34, 35-39, 40+ ft shooting. Corner 3s are 22ft and NBA 3pt line is 23.75ft. There are less than a handful of players that can shoot beyond 30ft, and even then, they can be considered heaves or a \"Prayer\" shot. Since this is not caused by opponent's individual defense and usually caused by the opponent's team defense, they are not a good indicator to how well a player can contribute to their fantasy value, they are removed. Also, if a player makes 1 heave, he would be ranked much higher than any other player. Same if that player had to shoot a \"Prayer\" shot because the ball was in his hand the last 1 second of the shot clock, it would skew his shooting rank lower, even though he's a good shooter from 3.\n",
    "    - Opponent Shooting\n",
    "        - **Removed**: 30-34, 35-39, 40+ ft opponent shooting. Like shooting, they are almost never caused by individual defense, rather caused by team defense. They also might cause skews in the ranking system because if 1 player defended 1 shot that missed, that player would immediately be ranked higher than a ton of players. The same goes to someone like J.R. Smith heaving a shot and making it would cause a good defender to have a terrible ranking.\n",
    "    - **Removed**: Defense dataset because the data is repeated in every other dataset\n",
    "    - **Removed**: Opponent dataset because the data is lacking over 50% of the players information, skews agg rank\n",
    "- Clutch ranking per 48 min\n",
    "    - Base\n",
    "    - Advanced\n",
    "    - Misc\n",
    "    - Usage\n",
    "    - Score\n",
    "- Missed Games Risk categorical\n",
    "- Ranked performance by Fantasy Points for gamelogs by weighted categories, outputting by mean, std and variance per season\n",
    "    - FGMade  = 1 fp\n",
    "    - FGMiss  = -9/11 fp\n",
    "    - FTMade  = 1 fp\n",
    "    - FTMiss  = -3/1 fp\n",
    "    - 3Made   = 0.5 fp\n",
    "    - pts     = 1.0 fp\n",
    "    - rebs    = 1.2 fp\n",
    "    - asts    = 1.5 fp\n",
    "    - stls    = 2.0 fp\n",
    "    - blks    = 2.0 fp\n",
    "    - tos     = -1.0 fp\n",
    "    \n",
    "# Game Logs\n",
    "- Subset the data from 1996-97 to 2015-16\n",
    "- Create a new column for Rank Performance by Fantasy Points using Yahoo's calculation system\n",
    "\n",
    "\n",
    "# Traditional Stats\n",
    "~~Win Shares~~\n",
    "\n",
    "~~Work with original unmerged traditional data~~\n",
    "\n",
    "~~Create a new column with win shares dummy variable for each player per season~~\n",
    "\n",
    "1977-78 - Current (has all traditional stats)\n",
    "\n",
    "Win shares are not as strong as of a fantasy target as I originally thought about. The calculation is also really complex and would take an atrocious amount of time to calculate. The basic gist of the calculation is Offensive Win Shares + Defensive Win Shares = Total Win Shares. The problem is, defensive win shares tend to favor the team's defensive strength and then projected onto each player. A player may be the worst defender in the league, but have a very high defensive win share because the team was very good defensively. Because of that, defensive win shares must be taken with a huge grain of salt. Now we only have offensive win share to work with. Offensive win shares does a decent job. Offensive win shares calculates the players value and production, which means that players who are underrated or overlooked are accuractly scored. The problem is, offensive win shares cannot predict fantasy value and talent. Chauncey Billups has a career offensive win share of 92.4, where as Larry Bird has a career offensive win share of 86.8, despite Billups playing 1000 less career minutes. Would anyone pick Billups over Bird for their fantasy team even though Bird has better stats across the board in pretty much every category, and, Bird can arguably be one of the best fantasy players ever? No. Offensive win shares contribute towards the team and not the player, therefore, I am removing this dummy target completely.\n",
    "\n",
    "\n",
    "### Aggregate Rank\n",
    "- Work with original unmerged traditional data\n",
    "- Create a new column with aggregated rank for each column for each season\n",
    "\n",
    "\n",
    "# Clutch Stats\n",
    "The reasoning behind using per48 minutes for clutch stats instead of per36 or per40 is because per48 you can see behavior changes easier. It is a very useful way to increase bias and variance and solely for comparing players and should not be used to do in game analysis. This is good for me since I want to see consistency and variance from their clutch stats in the 4th quarter with 5 min or less left and neither team is up by more than 5 points. If the player is consistent within these ranges, he theoretically is as good and consistent in all other quarters.\n",
    "\n",
    "### Aggregate Rank\n",
    "- Work with original unmerged clutch\n",
    "- Based on their per 48 minutes, create a new column for rank performance with aggregated rank for each column for each season\n",
    "\n",
    "# Risk\n",
    "### Missed Game Risk\n",
    "Categorize each player based on their games played each season. If a player misses a certain amount of games, decrease their value/rank accordingly so that managers who draft the player understand why he is lower on the draft boards and why there are more consistent and less injury prone players available on the board, and when he should be picked, regardless of his high-risk, high reward option.\n",
    "\n",
    "1. Player misses less than 10% of the games in the season - **LOW RISK**\n",
    "2. Player misses between 10% and 25% of the games in the season - **BE CAUTIOUS**\n",
    "3. Player misses between 25% and 50% of the games in the season - **HIGH RISK**\n",
    "4. Player misses more than 50% - **DANGER ZONE**\n",
    "\n",
    "### Variance\n",
    "Through their performance in their game logs, the variance of their fantasy points, can create how consistent the player is on seasonal basis. If the player has high variance, that means his value should go down for H2H leagues because you may win and lose on a weekly basis due to his inconsistent output."
   ]
  },
  {
   "cell_type": "markdown",
   "metadata": {},
   "source": [
    "# Todo List - Data Merging and Munging\n",
    "\n",
    "1. ~~Re-scrape PER48 for Clutch Stats~~\n",
    "2. ~~Fix FGA and FTA to FGMissed and FTMissed~~\n",
    "3. ~~Merge all clutch stats columns together~~\n",
    "4. ~~**BEFORE CONCAT SEASONS** Aggregate rank for all clutch stats~~\n",
    "5. ~~Concat all clutch stats season~~\n",
    "6. ~~Group by clutch stats by player id, season and mean rank, save into new csv for target clutch agg rank~~\n",
    "7. ~~**BEFORE CONCAT SEASONS** Merge traditional stats and shooting stats~~\n",
    "8. ~~**BEFORE CONCAT SEASONS** Aggregate rank for all traditional and shooting stats and add in risk value~~\n",
    "9. ~~Concat all traditional/shooting stats by season~~\n",
    "10. ~~Merge gamelogs and clutch agg rank dummy variables into traditional~~\n",
    "11. ~~Merge possible useful player bios info~~"
   ]
  },
  {
   "cell_type": "markdown",
   "metadata": {},
   "source": [
    "# Todo List - EDA\n",
    "\n",
    "1. ~~Correlation between target variables~~\n",
    "2. ~~Total game risk per Season~~\n",
    "3. ~~Distribution of all targets with 99% confidence interval~~\n",
    "4. ~~Differentiation between a good player, average player and a bad player by fp_mean, fp_std, fp_var~~\n",
    "5. ~~Time Series - top players per position~~\n",
    "6. ~~Stacked Bar Chart - change Seasons from str by removing the -xx to int~~"
   ]
  },
  {
   "cell_type": "markdown",
   "metadata": {
    "collapsed": true
   },
   "source": [
    "# Todo List - Modeling\n",
    "1. ~~Compare features statistics to eliminate redundancy by correlation matrix~~\n",
    "2. ~~Write scripts to run on AWS for all 6 target variables for Linear Regression and Random Forests~~\n",
    "3. ~~Linear Regression/Lasso/Ridge/ElasticNet for feature selection~~\n",
    "4. ~~Random Forests~~\n",
    "5. ~~Compare Train R^2, Test R^2, MSE, RMSE~~\n",
    "6. ~~Confusion Matrix for Logistic Regression and RandomForestClassifier~~\n",
    "7. ~~Tune Random Forests Parameters~~\n",
    "8. ~~Add new columns with predictions~~\n",
    "9. ~~Rerun models with new FP mean, std, var~~"
   ]
  },
  {
   "cell_type": "markdown",
   "metadata": {
    "collapsed": true
   },
   "source": [
    "# Todo List - Report/Presentation\n",
    "1. ~~Type \"words\" only for Technical report~~\n",
    "2. ~~cPickle data I need to create technical reports and graphs~~\n",
    "3. ~~Presentation Slide Ideas:~~\n",
    "    - ~~Introduction to Fantasy Basketball~~\n",
    "    - ~~Problem Statement and Goal~~\n",
    "    - ~~EDA~~\n",
    "    - ~~Modeling Results~~\n",
    "    - ~~Predictions for 2016-17 Season~~\n",
    "    - ~~Comparison to Yahoo and ESPN's ranking system~~\n",
    "    - ~~Encountered Problems~~\n",
    "    - ~~Future Outlook for this Project~~"
   ]
  },
  {
   "cell_type": "markdown",
   "metadata": {},
   "source": [
    "# Todo List - Web App *(If have time)*\n",
    "1. Create Widget\n",
    "2. Create Website"
   ]
  },
  {
   "cell_type": "markdown",
   "metadata": {},
   "source": [
    "# Todo List - Sunday\n",
    "1. ~~Create prediction values for 2015-16, 2014-15, 2013-14 and compare them with Yahoo and ESPN's ranking~~\n",
    "2. ~~Confusion Matrix for Logistic Regression and RandomForestClassifier~~\n",
    "3. ~~Download Excel Rankings for Yahoo, ESPN, CBS and BasketballMonster~~"
   ]
  },
  {
   "cell_type": "markdown",
   "metadata": {},
   "source": [
    "# Todo - Monday\n",
    "1. ~~Rerun and test new fp_mean, std, var models to see if better results~~\n",
    "2. ~~Compare ranks with Yahoo, ESPN, CBS and BasketballMonster~~"
   ]
  },
  {
   "cell_type": "markdown",
   "metadata": {},
   "source": [
    "# Todo - Tuesday\n",
    "1. ~~Technical and Non-Technical Reports~~\n",
    "2. ~~Presentation Slides~~"
   ]
  },
  {
   "cell_type": "markdown",
   "metadata": {
    "collapsed": true
   },
   "source": [
    "# Todo - 10/20/2016\n",
    "\n",
    "1. ~~Re-run Random Forest Game Risk with Extracted Features~~\n",
    "   1. Random Forest ran with 20,10,5 features and train-test split 95-5, 75-25, 50-50, 25-75, 5-95 all overfitting\n",
    "2. ~~Create Feature Importance for Linear/Logistic/Regularization~~"
   ]
  },
  {
   "cell_type": "markdown",
   "metadata": {},
   "source": [
    "# Todo - 10/25/2016\n",
    "1. Create disparity between my rank bubbles vs ESPN, CBS and Yahoo (last 3 seasons)\n",
    "2. Experiment with Tableau to see if can make cluster bubbles look nicer\n",
    "5. Post finished product onto Github Pages/Medium"
   ]
  },
  {
   "cell_type": "code",
   "execution_count": null,
   "metadata": {
    "collapsed": true
   },
   "outputs": [],
   "source": []
  }
 ],
 "metadata": {
  "anaconda-cloud": {},
  "kernelspec": {
   "display_name": "Python [dsi]",
   "language": "python",
   "name": "Python [dsi]"
  },
  "language_info": {
   "codemirror_mode": {
    "name": "ipython",
    "version": 2
   },
   "file_extension": ".py",
   "mimetype": "text/x-python",
   "name": "python",
   "nbconvert_exporter": "python",
   "pygments_lexer": "ipython2",
   "version": "2.7.12"
  }
 },
 "nbformat": 4,
 "nbformat_minor": 0
}
