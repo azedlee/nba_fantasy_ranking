{
 "cells": [
  {
   "cell_type": "markdown",
   "metadata": {},
   "source": [
    "# Non-Technical Report"
   ]
  },
  {
   "cell_type": "markdown",
   "metadata": {},
   "source": [
    "# Table of Contents <a id='table_of_contents'></a>\n",
    "\n",
    "<a href='#problem_statement'>I. Problem Statement</a>\n",
    "\n",
    "<a href='#data_description'>II. Data Description</a>\n",
    "\n",
    "<a href='#data_cleaning'>III. Data Cleaning</a>\n",
    "\n",
    "<a href='#eda'>IV. EDA</a>\n",
    "\n",
    "<a href='#model_selection'>V. Model Selection</a>\n",
    "\n",
    "<a href='#results'>VI. Results</a>\n",
    "\n",
    "<a href='#conclusion'>VII. Conclusion</a>\n",
    "\n",
    "<a href='#appendix'>VIII. Appendix and Reference Code</a>"
   ]
  },
  {
   "cell_type": "markdown",
   "metadata": {
    "collapsed": true
   },
   "source": [
    "# I. Problem statement <a id=problem_statement></a>\n",
    "\n",
    "Yahoo, ESPN and other fantasy basketball websites are fairly inaccurate on their pre-ranking system. It is quite well known that many advanced/knowledgeable/experienced players know to never follow any of the ranking system provided by Yahoo, ESPN, etc... because they are terribly inaccurate. From research, Yahoo, ESPN and many other sites use AccuScore.com or Rotowire.com as their base ranking system. Afterwards, each website has their own fantasy \"guru\" that will re-arrange and edit the ranking system based on injury or potential. Third party fantasy \"guru\" websites also seem to work similarly, except they seem to have their own base ranking system and then edited on biased opinion (individually or a group of people). Regardless, all these websites do not have a non-biased, non-opinionated ranking system, which is understandable because ranking players correctly is extremely difficult and everyone has their own opinion on who has more potential. Currently, this seems like the best way to create a better ranking system.\n",
    "\n",
    "My goal is to beat all their ranking systems by creating a new way to look at how people should refer to drafting. Based on the last 20 seasons, I want to create a customizable grouping system, rather than labeling players on ranks. For example, in standard leagues there are 12 managers drafting 13 players each, which means that there are 13 rounds of drafting. I want to put the 12 best players in the current pool into each round bracket, provide their mean fantasy value per season, their standard deviation and variance in all their seasons. Also, create a 14th bucket for all the other players. Based on these aspects, managers, especially new players, are able to understand what kind of player they are drafting and what kind of risks they will encounter. This, to me, is a much more accurate and effective way of drafting.\n",
    "\n",
    "<a href=#table_of_contents>Back to top</a>"
   ]
  },
  {
   "cell_type": "markdown",
   "metadata": {},
   "source": [
    "# II. Description of data <a id=data_description></a>\n",
    "\n",
    "All data was scraped from stats.nba.com, which is hosted by SAP HANA relational database. NBA has been keeping very advanced statistics of all players, such as, the distance on where they shot, how their opponent's average, percentage of assisted and unassisted shots, and many more. Below are the datasets and the columns I used for this report.\n",
    "\n",
    "<a href=#table_of_contents>Back to top</a>"
   ]
  },
  {
   "cell_type": "markdown",
   "metadata": {},
   "source": [
    "## Traditional Stats Totals (1996-97 to 2015-16)\n",
    "# =====================================================\n",
    "### Base Dataset\n",
    "    - PLAYER_ID: Unique ID for each Player\n",
    "    - PLAYER_NAME: Players Name\n",
    "    - AGE: Players Age per Season\n",
    "    - GP: Games played during that Season\n",
    "    - W: Wins\n",
    "    - L: Losses\n",
    "    - MIN: Total Minutes played\n",
    "    - FGM: Total Field Goals Made\n",
    "    - FGA: Total Field Goal Attempts\n",
    "    - FG_PCT: Field Goal Percentage\n",
    "    - FG3M: 3Pts Made\n",
    "    - FG3A: 3Pt Attempts\n",
    "    - FG3_PCT: 3Pt Percentage\n",
    "    - FTM: Free Throws Made\n",
    "    - FTA: Free Throw Attempts\n",
    "    - FT_PCT: Free Throw Percentage\n",
    "    - OREB: Total Offensive Rebounds\n",
    "    - DREB: Total Defensive Rebounds\n",
    "    - REB: Total Combined Rebounds\n",
    "    - AST: Total Assists\n",
    "    - TOV: Total Turnovers\n",
    "    - STL: Total Steals\n",
    "    - BLK: Total Blocks\n",
    "    - BLKA: Total Block Attempts\n",
    "    - PF: Total Personal Fouls\n",
    "    - PFD: Total Fouls Drawn against Opponents\n",
    "    - PTS: Total Points\n",
    "    - PLUS_MINUS: Difference between how much the team scores and opponent scores while player is on court\n",
    "    - DD2: Double digit in 2 categories (Double Doubles)\n",
    "    - TD3: Triple Doubles in 3 categories (Triple Doubles)\n",
    "# =====================================================\n",
    "### Advanced Dataset\n",
    "    - PLAYER_ID: Unique ID for each Player\n",
    "    - OFF_RATING: Per 100 possessions, number of points the team scores while player is on the court\n",
    "    - DEF_RATING: Per 100 possessions, number of points the team allows while player is on the court\n",
    "    - NET_RATING: Difference between the Offense and Defensive Rating\n",
    "    - AST_PCT: The percentage of teammate's field goals that the player assisted\n",
    "    - AST_TO: Assist Turnover Ratio is the number of assists for every turnover the player makes\n",
    "    - AST_RATIO: Per 100 possessions, number of assists a player averages\n",
    "    - OREB_PCT: Percentage of Offensive Rebounds a player obtains while on the court\n",
    "    - DREB_PCT: Percentage of Defensive Rebounds a player obtains while on the court\n",
    "    - REB_PCT: Percentage of Rebounds a player obtains while on the court\n",
    "    - TM_TOV_PCT: Per 100 possessions, the average number of turnover the player commits\n",
    "    - EFG_PCT: Effective Field Goal percentage is an adjusted version of Field Goals Made by making 3pt shots 1.5 more valuable than 2pters\n",
    "    - TS_PCT: True Shooting Percentage adjusts 3pt and FT as part of percentage, formula: Points/[(2)(Field Goal Attempts) + (0.44)(Free Throw Attempts)]\n",
    "    - USG_PCT: Percentage of the team's offensive possessions a player uses while on the court\n",
    "    - PACE: Number of possessions per 48 minutes\n",
    "    - PIE: An estimate of the player's contributions and impact\n",
    "    - FGM_PG: Field Goals Made per Game\n",
    "# =====================================================\n",
    "### Misc Dataset\n",
    "    - PLAYER_ID: Unique ID for each Player\n",
    "    - PTS_OFF_TOV: Points off Turnovers\n",
    "    - PTS_2ND_CHANCE: Points off second chances\n",
    "    - PTS_FB: Points off fast breaks\n",
    "    - PTS_PAINT: Points scored in the paint\n",
    "    - OPP_PTS_OFF_TOV: Opponent's points off turnovers\n",
    "    - OPP_PTS_2ND_CHANCE: Opponent's off second chances\n",
    "    - OPP_PTS_FB: Opponent's points off fast breaks\n",
    "    - OPP_PTS_PAINT: Opponent's points in the paint\n",
    "# =====================================================\n",
    "### Usage Dataset\n",
    "    - PLAYER_ID: Unique ID for each Player\n",
    "    - PCT_FGM: Percentage of the team's field goals made while player is on the court\n",
    "    - PCT_FGA: Percentage of the team's field goal attempts while player is on the court\n",
    "    - PCT_FG3M: Percentage of the team's 3Pts made while player is on the court\n",
    "    - PCT_FG3A: Percentage of the team's 3Pt attempts while player is on the court\n",
    "    - PCT_FTM: Percentage of the team's free throws made while player is on the court\n",
    "    - PCT_FTA: Percentage of the team's free throw attempts while player is on the court\n",
    "    - PCT_OREB: Percentage of the team's offensive rebounds obtained while player is on the court\n",
    "    - PCT_DREB: Percentage of the team's defensive rebounds obtained while player is on the court\n",
    "    - PCT_REB: Percentage of the team's rebounds obtained while player is on the court\n",
    "    - PCT_AST: Percentage of the team's assists made while player is on the court\n",
    "    - PCT_TOV: Percentage of the team's turnovers commited while player is on the court\n",
    "    - PCT_STL: Percentage of the team's steals made while player is on the court\n",
    "    - PCT_BLK: Percentage of the team's blocks made while player is on the court\n",
    "    - PCT_BLKA: Percentage of the team's blocks attempted while player is on the court\n",
    "    - PCT_PF: Percentage of the team's personal fouls that player has while on the court\n",
    "    - PCT_PFD: Percentage of the team's personal fouls drawn while player is on the court\n",
    "    - PCT_PTS: Percentage of the team's points scored while player is on the court\n",
    "# =====================================================\n",
    "### Scoring Dataset\n",
    "    - PLAYER_ID: Unique ID for each Player\n",
    "    - PCT_FGA_2PT: Percentage of field goal attempts that are 2 pointers\n",
    "    - PCT_FGA_3PT: Percentage of field goal attempts that are 3 pointers\n",
    "    - PCT_PTS_2PT: Percentage of points scored that are 2 pointers\n",
    "    - PCT_PTS_2PT_MR: Percentage of points scored that are 2 point midrange jumpshots\n",
    "    - PCT_PTS_3PT: Percentage of points scored that are 3 pointers\n",
    "    - PCT_PTS_FB: Percentage of points scored that are fast breaks\n",
    "    - PCT_PTS_FT: Percentage of points scored that are free throws\n",
    "    - PCT_PTS_OFF_TOV: Percentage of points scored that are off turnovers\n",
    "    - PCT_PTS_PAINT: Percentage of points scored that are in the paint\n",
    "    - PCT_AST_2PM: Percentage of 2 points made that are assisted by teammates\n",
    "    - PCT_UAST_2PM: Percentage of 2 points made that are not assisted by teammates\n",
    "    - PCT_AST_3PM: Percentage of 3 points made that are assisted by teammates\n",
    "    - PCT_UAST_3PM: Percentage of 3 points made that are not assisted by teammates\n",
    "    - PCT_AST_FGM: Percentage of field goals made that are assisted by teammates\n",
    "    - PCT_UAST_FGM: Percentage of field goals made that are not assisted by teammates"
   ]
  },
  {
   "cell_type": "markdown",
   "metadata": {
    "collapsed": true
   },
   "source": [
    "## Clutch Stats per48 min (1996-97 to 2015-16)\n",
    "\n",
    "*** Same Columns as Traditional Stats ***"
   ]
  },
  {
   "cell_type": "markdown",
   "metadata": {
    "collapsed": true
   },
   "source": [
    "## Shooting Stats (1996-97 to 2015-16)\n",
    "# =====================================================\n",
    "### Player\n",
    "    - Less than 5ft\n",
    "        - Field Goals Made\n",
    "        - Field Goal Attempts\n",
    "        - Field Goal Percentage\n",
    "    - 5-9 ft\n",
    "        - Field Goals Made\n",
    "        - Field Goal Attempts\n",
    "        - Field Goal Percentage\n",
    "    - 10-14 ft\n",
    "        - Field Goals Made\n",
    "        - Field Goal Attempts\n",
    "        - Field Goal Percentage\n",
    "    - 15-19 ft\n",
    "        - Field Goals Made\n",
    "        - Field Goal Attempts\n",
    "        - Field Goal Percentage\n",
    "    - 20-24 ft\n",
    "        - Field Goals Made\n",
    "        - Field Goal Attempts\n",
    "        - Field Goal Percentage\n",
    "    - 25-29 ft\n",
    "        - Field Goals Made\n",
    "        - Field Goal Attempts\n",
    "        - Field Goal Percentage\n",
    "# =====================================================\n",
    "### Player's Opponent\n",
    "    - Less than 5ft\n",
    "        - Field Goals Made\n",
    "        - Field Goal Attempts\n",
    "        - Field Goal Percentage\n",
    "    - 5-9 ft\n",
    "        - Field Goals Made\n",
    "        - Field Goal Attempts\n",
    "        - Field Goal Percentage\n",
    "    - 10-14 ft\n",
    "        - Field Goals Made\n",
    "        - Field Goal Attempts\n",
    "        - Field Goal Percentage\n",
    "    - 15-19 ft\n",
    "        - Field Goals Made\n",
    "        - Field Goal Attempts\n",
    "        - Field Goal Percentage\n",
    "    - 20-24 ft\n",
    "        - Field Goals Made\n",
    "        - Field Goal Attempts\n",
    "        - Field Goal Percentage\n",
    "    - 25-29 ft\n",
    "        - Field Goals Made\n",
    "        - Field Goal Attempts\n",
    "        - Field Goal Percentage"
   ]
  },
  {
   "cell_type": "markdown",
   "metadata": {
    "collapsed": true
   },
   "source": [
    "## Gamelogs (1947-48 to 2015-16)\n",
    "# =====================================================\n",
    "```\n",
    "- PLAYER_ID: Unique ID for each Player\n",
    "- Player: Player Name\n",
    "- Team: Team Name\n",
    "- Match Up: Match up\n",
    "- Game Date: Date of the game\n",
    "- W/L: Win or Lose\n",
    "- MIN: Minutes played\n",
    "- PTS: Points Scored\n",
    "- FGM: Field Goals Made\n",
    "- FGA: Field Goal Attempts\n",
    "- FG%: Field Goal Percentage\n",
    "- 3PM: 3Pts Made\n",
    "- 3PA: 3Pt Attempts\n",
    "- 3P%: 3Pt Percentage\n",
    "- FTM: Free Throws Made\n",
    "- FTA: Free Throw Attempts\n",
    "- FT%: Free Throw Percentage\n",
    "- OREB: Offensive Rebounds Obtained\n",
    "- DREB: Defensive Rebounds Obtained\n",
    "- REB: Total Rebounds Obtained\n",
    "- AST: Assists Made\n",
    "- STL: Steals Made\n",
    "- BLK: Blocks Made\n",
    "- TOV: Number of Turnovers Committed\n",
    "- PF: Personal Fouls Committed\n",
    "- +/-: Plus Minus Rating\n",
    "```"
   ]
  },
  {
   "cell_type": "markdown",
   "metadata": {
    "collapsed": true
   },
   "source": [
    "## Player Bios (1996-97 to 2015-16)\n",
    "# =====================================================\n",
    "```\n",
    "- PLAYER_ID: Unique ID for each Player\n",
    "- Player: Player Name\n",
    "- Team: Current Team\n",
    "- Age: Current Age\n",
    "- Height: Current Height\n",
    "- Weight: Current Weight\n",
    "- College: College Attended, if applicable\n",
    "- Country: Country of origin\n",
    "- Draft Year: Year of when the player was drafted into the NBA\n",
    "- Draft Round: Which round the player was drafted\n",
    "- Draft Number: The draft number the player was drafted\n",
    "- GP: Games Played\n",
    "- PTS: Total Points in that Season\n",
    "- REB: Total Rebounds in that Season\n",
    "- AST: Total Assists in that Season\n",
    "- NetRtg: Net Rating during that Season\n",
    "- OREB%: Percentage of Offensive Rebounds a player obtains while on the court\n",
    "- DREB%: Percentage of Defensive Rebounds a player obtains while on the court\n",
    "- USG%: Percentage of the team's offensive possessions a player uses while on the court\n",
    "- TS%: True Shooting Percentage adjusts 3pt and FT as part of percentage, formula: Points/[(2)(Field Goal Attempts) + (0.44)(Free Throw Attempts)]\n",
    "- AST%: The percentage of teammate's field goals that the player assisted\n",
    "```"
   ]
  },
  {
   "cell_type": "markdown",
   "metadata": {},
   "source": [
    "#### Removed Rows, Columns and Datasets\n",
    "1. Removed Datasets\n",
    "    - Traditional Defense\n",
    "        - **Reasoning**: All the columns were duplicates taken from other advanced statistics, except for defensive win shares. Win shares was originally a probable target dummy variable, but was removed, which will be explained later.\n",
    "    - Traditional Opponent\n",
    "        - **Reasoning**: Around 50% of the columns were duplicates with other advanced statistics. The dataset itself was rather confusing to work with and took a long time just to understand how it was working. Currently as of 10/11/2016, I did not use this dataset, but in the future with more time, I will definitely explore this dataset a bit more to see how to incorporate it into my analysis.\n",
    "    - Play Type\n",
    "        - **Reasoning**: There was only 1 season (2015-16) and fairly new. Good for per season analysis between players, but not a good predictor for fantasy value. Maybe in the future with more data, it may be a better predictor, but as of now, I want to keep data to at least 20 season to keep the information consistent per player.\n",
    "2. Removed Columns\n",
    "    - Player 30-34, 35-39, 40+ ft shooting data\n",
    "        - **Reasoning**: Corner 3s are 22ft and NBA 3pt line is 23.75ft. There are less than a handful of players that can shoot beyond 30ft, and even then, they can be considered heaves or a \"Prayer\" shot. Since this is not caused by opponent's individual defense and usually caused by the opponent's team defense, they are not a good indicator to how well a player can contribute to their fantasy value, they are removed. Also, if a player makes 1 heave, he would be ranked much higher than any other player. Same if that player had to shoot a \"Prayer\" shot because the ball was in his hand the last 1 second of the shot clock, it would skew his shooting rank lower, even though he's a good shooter from 3.\n",
    "    - Player's Opponent 30-34, 35-39, 40+ ft shooting data\n",
    "        - **Reasoning**: Like the Player's shooting data, they are almost never caused by individual defense, rather caused by team defense. They also might cause skews in the ranking system because if 1 player defended 1 shot that missed, that player would immediately be ranked higher than a ton of players. The same goes to someone like J.R. Smith heaving a shot and making it would cause a good defender to have a terrible ranking.\n",
    "    - Seasons 1946-47 to 1995-96\n",
    "        - **Reasoning**: There are 2 reasons why these seasons were removed. The first reason was not all the statistics were recorded back then. Turnovers was not recorded until the 1977-78 season. Another example would be in the 1950s, only points, field goal made (not attempts), free throw mades, attempts and percentage were recorded. The data isn't useful for analysis. The second reason was advanced statistics were not recorded until 1996-97 season. Thus, I decided to match 20 season of gamelogs with the 20 seasons of advanced statistics.\n",
    "        \n",
    "<a href=#table_of_contents>Back to top</a>"
   ]
  },
  {
   "cell_type": "markdown",
   "metadata": {},
   "source": [
    "# III. Data Cleaning, Data Munging and Dummy Targets. <a id=data_cleaning></a>\n",
    "The amazing part of the data I scraped is that it is all in JSON format and relatively clean. JSON (JavaScript Object Notation) is a lightweight data-interchange format. It is easy for humans to read and write, and easy for machines to read. The data being relatively clean means it didn't require me to change the data in any way so that my code can read it. Inputting the data into my code was simple and I can immediately get to work on analysis.\n",
    "\n",
    "Data munging and creating dummy variables was more time consuming. Data munging is a process where the data needs to be manually converted through semi-automated tools, which in my case was using Python. Dummy variables are variables I created based on the data that can be independent variables that are tested on to get results. Although the data was fairly clean and all the data I used was in the correct format, I had 20 seasons of data for traditional (base, advanced, shooting, usage, misc), clutch (base, advanced, shooting, usage, misc), shooting (player and their opponent) and player bios and 70 seasons of gamelogs, which is a huge quantity. However, the quantity of data was not an issue. The problem was that there were tons of duplicate columns in multiple datasets where I had to hand pick which columns to keep and which to remove. I also had to create a new \"SEASONS\" column that would help fix issues with the code and allow my code to run smoother when combining datasets together.\n",
    "\n",
    "After deciding which columns to keep and merging columns from subset of datasets (i.e. Traditional base, advanced, shooting, usage, misc, player shooting and opponent shooting), I decided on creating dummy target variables instead of clustering. Clustering is a technique where you are looking for some hidden information within the data. I chose this path because I had a clear idea on what types of dummy variables would be correlated with fantasy value. Also, I was afraid I would be wasting too much time on figure out whether the clusters are targeted toward fantasy value versus real life value. There are only so many groupings that can be made in basketball where I didn't feel like clustering would be an advantage.\n",
    "\n",
    "After researching ideas through fantasy baseball and football, I had a couple of ideas on what dummy variables to create that may be able to predict better players for fantasy.\n",
    "    1. Aggregate Traditional Total Ranks per Player per Season\n",
    "    2. Aggregate Clutch per48 minute Ranks per Player per Season\n",
    "    3. Games Missed Risk\n",
    "    4. Fantasy Points Mean, Standard Deviation and Variance\n",
    "    5. **REMOVED** Win Shares\n",
    "I decided on these target variables for these reasons:\n",
    "1. I used total values instead of per game, per36, per40 or per48 because I didn't want the players who played fewer games, but had good averages within a span of 10-20 games to skew their value in the wrong direction. The idea is to sort every column from best performance to worst performance, give the player a ranked value, then go to the next column and repeat the process. After achieving a rank for every column, I would sum all the ranks and divide by the number of columns used.\n",
    "2. I used clutch per48 minute instead of totals, per game, per30 or per36 because I wanted to see the huge disparity and variance between players. I also changed the query to 4th quarter with 5 minutes left with the point differentiation no greater than 5. The theory here is that if players perform well under these circumstances, they can equally perform well in any other quarter. Therefore, outputing a more consistent fantasy value. The aggregation technique is the same as the traditional total ranks.\n",
    "3. I created my own Games Missed Rank based on prior experience and knowledge, although the values could be tweaked a bit more. The values are the following:\n",
    "    - Player misses less than 10% of the games in the season - **LOW RISK**\n",
    "    - Player misses between 10% and 25% of the games in the season - **BE CAUTIOUS**\n",
    "    - Player misses between 25% and 50% of the games in the season - **HIGH RISK**\n",
    "    - Player misses more than 50% - **DANGER ZONE**\n",
    "4. Fantasy Points, Mean and Standard Deviation were also created based on my prior experience and knowledge. I referred to Yahoo's weight system for each category that affected fantasy points. These values could be tweaked a bit more, but I don't think the outputs would vary too much, especially for the top players. Below are the adjusted values:\n",
    "        - FGMade  = 1 fp\n",
    "        - FGMiss  = -9./11. fp\n",
    "        - FTMade  = 1 fp\n",
    "        - FTMiss  = -3./1. fp\n",
    "        - 3Made   = 0.5 fp\n",
    "        - pts     = 1.0 fp\n",
    "        - rebs    = 1.2 fp\n",
    "        - asts    = 1.5 fp\n",
    "        - stls    = 2.0 fp\n",
    "        - blks    = 2.0 fp\n",
    "        - tos     = -1.0 fp\n",
    "5. Win shares was originally a variable I was really interested in because it calculated how many wins a player contributed to a team. However after hours of research, I decided to remove it because it did not affect a player's fantasy value. The calculation is really complex and would take an atrocious amount of time to calculate. The basic gist of the calculation is Offensive Win Shares + Defensive Win Shares = Total Win Shares. The problem is, defensive win shares tend to favor the team's defensive strength and then projected onto each player. A player may be the worst defender in the league, but have a very high defensive win share because the team was very good defensively. Because of that, defensive win shares must be taken with a huge grain of salt. Now we only have offensive win share to work with. Offensive win shares does a decent job. Offensive win shares calculates the players value and production, which means that players who are underrated or overlooked are accuractly scored. The problem is, offensive win shares cannot predict fantasy value and talent. Chauncey Billups has a career offensive win share of 92.4, where as Larry Bird has a career offensive win share of 86.8, despite Billups playing 1000 less career minutes. Would anyone pick Billups over Bird for their fantasy team even though Bird has better stats across the board in pretty much every category, and, Bird can arguably be one of the best fantasy players ever? No. Offensive win shares contribute towards the team and not the player, therefore, I removing this dummy variable makes sense.\n",
    "\n",
    "\n",
    "<a href=#table_of_contents>Back to top</a>"
   ]
  },
  {
   "cell_type": "markdown",
   "metadata": {},
   "source": [
    "## Top 10 Players for Aggregate Traditional Rank with Games Missed Risk\n",
    "![](../screenshots/agg_rank_game_risk.png)"
   ]
  },
  {
   "cell_type": "markdown",
   "metadata": {},
   "source": [
    "## Top 10 Players for Clutch Aggregate Rank\n",
    "![](../screenshots/clutch_agg_rank.png)"
   ]
  },
  {
   "cell_type": "markdown",
   "metadata": {},
   "source": [
    "## Top 10 Players for Fantasy Points Mean, Standard Deviation and Variance\n",
    "![](../screenshots/mean_std_var_dummy.png)"
   ]
  },
  {
   "cell_type": "markdown",
   "metadata": {},
   "source": [
    "## Top 10 Players with Combined all Target Dummy Variables\n",
    "![](../screenshots/combined_dummy.png)"
   ]
  },
  {
   "cell_type": "markdown",
   "metadata": {},
   "source": [
    "<a href=#table_of_contents>Back to top</a>"
   ]
  },
  {
   "cell_type": "markdown",
   "metadata": {},
   "source": [
    "# IV. EDA <a id=eda></a>\n",
    "Exploratory Data Analysis was very difficult because there is so much you can do with basketball data that you may lose direction and focus really easily. Before charging head first into EDA without any direction, I compiled a generic list of information that I was curious about related to fantasy. If my idea was not related to fantasy at all, I would dismiss it because not every information or idea that happens in real life on the court is translatable to getting more stats and winning your fantasy league. Below are the generic ideas I came up.\n",
    "\n",
    "    1. Time series comparison between players\n",
    "    2. Distribution of Fantasy Points\n",
    "    3. Correlation Matrix between Targets\n",
    "    4. Games Missed Risk Comparison\n",
    "\n",
    "With these 4 points in mind, whenever I feel like I am getting lost or start thinking \"what am I doing right now,\" I can refer back and get back on track."
   ]
  },
  {
   "cell_type": "markdown",
   "metadata": {},
   "source": [
    "## Hall of Famers Fantasy Player by Median\n",
    "![](../screenshots/custom_fantasy_player.png)"
   ]
  },
  {
   "cell_type": "markdown",
   "metadata": {},
   "source": [
    "The above time series graph was one of the first graphs I made for fun, but sparked a bunch of ideas on how to use it. Initially, I just wanted to see the series on how the top tier players achieved through the whole career. Later I figured, I can compared players between different tiers, countries and draft rounds, which is what I did below."
   ]
  },
  {
   "cell_type": "markdown",
   "metadata": {},
   "source": [
    "![](../screenshots/best_avg_halfavg_worst.png)"
   ]
  },
  {
   "cell_type": "markdown",
   "metadata": {},
   "source": [
    "It is clear that LeBron James, being a top tier fantasy pick, was miles ahead of an average player. What was interesting was an average player like Anthony Johnson was not as good as I thought. Although he may have been one of the players at the median, Ronnie Price, who was half of the median (hence, half-average), was more consistent. I also did one for one of the players at the bottom 1st percentile and Cuonzo Martin did not show up on the graph at all. I wonder why until I plotted all the 1st percentile players below."
   ]
  },
  {
   "cell_type": "markdown",
   "metadata": {},
   "source": [
    "![](../screenshots/worst_players.png)"
   ]
  },
  {
   "cell_type": "markdown",
   "metadata": {},
   "source": [
    "Most players who were at the bottom percentile were players that only played limited amount of games per season and were either cut or benched the rest of the season. I thought about subsetting them out, but even after subsetting, they did not affect my model much, so I just left them out when I was predicting for the upcoming season instead. However, I was interested to see how large many of these types of players were labelled in my \"Danger\" category."
   ]
  },
  {
   "cell_type": "markdown",
   "metadata": {},
   "source": [
    "![](../screenshots/game_risk_bar.png)"
   ]
  },
  {
   "cell_type": "markdown",
   "metadata": {},
   "source": [
    "Although kind of cluttered, it was clear that low risk and danger players are the higher of the 4. This helped me confirmed that when I'm doing my final predictions later on that I subset the data with players who have played more than a certain threshold of games or limit the amount of players I want to predict."
   ]
  },
  {
   "cell_type": "markdown",
   "metadata": {},
   "source": [
    "I was always curious on how USA players' fantasy value differed from international players. Although international players are up and coming, I don't recall any strong candidate that was every picked early. I decided to compare USA and international players based on where they were drafted in the NBA draft and compare their fantasy values."
   ]
  },
  {
   "cell_type": "markdown",
   "metadata": {},
   "source": [
    "![](../screenshots/first_round.png)"
   ]
  },
  {
   "cell_type": "markdown",
   "metadata": {},
   "source": [
    "![](../screenshots/second_round.png)"
   ]
  },
  {
   "cell_type": "markdown",
   "metadata": {},
   "source": [
    "![](../screenshots/third_round.png)"
   ]
  },
  {
   "cell_type": "markdown",
   "metadata": {},
   "source": [
    "It looks pretty clearcut that in the past 20 seasons, the top 5 USA players drafted in the first round compared to the top 5 international players drafted in the first round were better fantasy players. However, starting from the 2005 season, international players in the 2nd round or undrafted, who were most likely being underrated, started to turn up to be on par with their USA counter parts. Currently, there are tons of NBA teams drafting more international players, so I wouldn't be surprised if international players in the future will be on par, fantasy wise, with USA players. Some international players not on the list, who were drafted in the first round and may become a fantasy studs include Kristaps Porzingis, Dario Saric, Mario Hezonja, Emmanuel Mudiay, Andrew Wiggins and Jusuf Nurkic."
   ]
  },
  {
   "cell_type": "markdown",
   "metadata": {},
   "source": [
    "Next, I wanted to see the density spread for fantasy points mean, standard deviation and variance. I expected that the 1st percentile to be closer to 0 based on what I found out earlier, but I also wanted to see how the rest of the distribution shaped out."
   ]
  },
  {
   "cell_type": "markdown",
   "metadata": {},
   "source": [
    "![](../screenshots/density_fp_mean.png)"
   ]
  },
  {
   "cell_type": "markdown",
   "metadata": {},
   "source": [
    "![](../screenshots/density_fp_std.png)"
   ]
  },
  {
   "cell_type": "markdown",
   "metadata": {},
   "source": [
    "![](../screenshots/density_fp_var.png)"
   ]
  },
  {
   "cell_type": "markdown",
   "metadata": {},
   "source": [
    "I must say, I was quite surprised at the results. I expected there to be a lot of values below the mean, but I did not expect so many players playing below the average. This just shows that in standard league, where you are only drafting 156 players, you are mostly drafting players way above the mean. It also shows how much of a fantasy monster the top 1st percentile are and how much they can affect a team. This also solidified my reasoning that less injury prone and consistent players should be emphasized on because you can't stand losing a fantasy monster to injury. The standard deviation and variance were normally distributed. I'd assume the ridicuously high variance players, which is creating a skewed right distribution, are players who played 2 games, one with a negative fantasy score and then another game with a high fantasy score."
   ]
  },
  {
   "cell_type": "markdown",
   "metadata": {},
   "source": [
    "Lastly, I wanted to make sure that my aggregate ranks were somewhat normally distributed and also that all my target variables were linearly correlated with each other."
   ]
  },
  {
   "cell_type": "markdown",
   "metadata": {},
   "source": [
    "![](../screenshots/density_agg_rank.png)"
   ]
  },
  {
   "cell_type": "markdown",
   "metadata": {},
   "source": [
    "![](../screenshots/density_clutch_rank.png)"
   ]
  },
  {
   "cell_type": "markdown",
   "metadata": {},
   "source": [
    "![](../screenshots/target_corr.png)"
   ]
  },
  {
   "cell_type": "markdown",
   "metadata": {},
   "source": [
    "I added age into the formula to also see if there were any correlation. I was actually quite surprised that age had no correlation with any of my dummy target variables. My guess is because as a player gets older, their fantasy value moves positively correlated down, meaning that age and lower output are correlated. Same with their normal and clutch performance. The low correlation between game risk and clutch agg rank makes sense also because only the players who are actually good will play in the final minutes of 4th quarter of a close game."
   ]
  },
  {
   "cell_type": "markdown",
   "metadata": {},
   "source": [
    "<a href=#table_of_contents>Back to top</a>"
   ]
  },
  {
   "cell_type": "markdown",
   "metadata": {},
   "source": [
    "# V. Models <a id=model_selection></a>"
   ]
  },
  {
   "cell_type": "markdown",
   "metadata": {},
   "source": [
    "## Linear/Logistic Regression vs Lasso vs Ridge vs Elastic Net"
   ]
  },
  {
   "cell_type": "markdown",
   "metadata": {},
   "source": [
    "#### Basic Explanation of the Models\n",
    "1. Linear Regression - Linear Regression models how correlated your columns (predictors) are to your target.\n",
    "2. Lasso (aka L1) - Similar to Linear Regression, Lasso removes columns that it doesn't think will help the model, which creates a better model, but puts in more bias.\n",
    "3. Ridge (aka L2) - Similar to Linear Regression, Ridge tries to balance all the columns together so that they are equally affecting the best fit line. It tries its best not to remove any columns.\n",
    "4. Elastic Net - Elastic Net is a combination of both Lasso and Ridge. You can set the ratio between Lasso and Ridge to see if there is a possibility to not remove too many columns and also balance out the columns.\n",
    "5. Logistic Regression - Models the probability of an item being 1 thing or another. If there are 2 cats and 8 dogs, what is the possibility that the next animal brough in is a dog.\n",
    "\n",
    "I used a Linear Regression for Aggregate Rank, Clutch Aggregate Rank, Fantasy Points Mean, Standard Deviation and Variance and a Logistic Regression for Games Missed Risk to look for any redundancy and correlation issues. In order to compare the results, I also ran a Lasso, Ridge and Elastic Net to see if there were any changes. Also, features such as 3Pt Made, 3Pt Attempted, Percentage of 3Pt Made, 20-24ft made from basket, etc... may all be redundant. It would be a good idea to figure out how the columns interacted with each other and understanding why before doing my Random Forest modeling."
   ]
  },
  {
   "cell_type": "markdown",
   "metadata": {},
   "source": [
    "## Random Forests"
   ]
  },
  {
   "cell_type": "markdown",
   "metadata": {},
   "source": [
    "#### Basic Explanation of Random Forests\n",
    "Random Forest is an ensemble method for Decision Trees. Ensemble Method is running the same model, over and over again, and then averaging out all the scores for a more robust score. Decision Trees are like real trees. Imagine a real tree. As the tree starts growing, more branches and leaves are made. Now imagine that the stump is your entire data. Suppose that you are classifying whether 1 data point is a cat or dog. The Decision Tree will be like, dog - yes or no. If yes, go to this branch, if no, go to this other branch. Then in those branches it will ask a new question. Is it heavy - yes or no? If yes, go to this other branch, if no, go to this other branch. The Decision Tree will continue to ask questions until it decides, yes, this is a cat. Then it will identify this point as a cat. Random Forest is just a bunch of Decision Trees. This model is helpful for my project because it will help me classify whether this player is an allstar or a bench player by making decisions.\n",
    "\n",
    "Random Forest Regressor and Classifier was my main modeling tool to predict my 2016-17 fantasy ranks. I chose Random Forest over Decision Trees because it was an ensemble method, which helped me test the strength of my dataset through bagging techniques. But the biggest reason I chose Random Forests was because it will help me categorize continuous variables into groups and split them, based on all my features, to determine a good player versus a bad player. I also figured, Random Forests will be able to help categorize the players in the 14 rounds I wanted to. I can create a new product, or ranking system, which I believe can beat Yahoo, ESPN, CBS and other ranking algorithms. If I wanted to improve my score, I would probably try and use Gradiant Boosted Trees."
   ]
  },
  {
   "cell_type": "markdown",
   "metadata": {},
   "source": [
    "<a href=#table_of_contents>Back to top</a>"
   ]
  },
  {
   "cell_type": "markdown",
   "metadata": {},
   "source": [
    "# VI. Description of results. <a id=results></a>"
   ]
  },
  {
   "cell_type": "markdown",
   "metadata": {},
   "source": [
    "# ========================================================\n",
    "# Linear, Logistic, Lasso, Ridge and Elastic Net Results\n",
    "# ========================================================"
   ]
  },
  {
   "cell_type": "markdown",
   "metadata": {},
   "source": [
    "![](../screenshots/lr_agg_rank.png)"
   ]
  },
  {
   "cell_type": "markdown",
   "metadata": {},
   "source": [
    "![](../screenshots/lr_clutch_rank.png)"
   ]
  },
  {
   "cell_type": "markdown",
   "metadata": {},
   "source": [
    "![](../screenshots/lr_fp_mean.png)"
   ]
  },
  {
   "cell_type": "markdown",
   "metadata": {},
   "source": [
    "![](../screenshots/lr_fp_std.png)"
   ]
  },
  {
   "cell_type": "markdown",
   "metadata": {},
   "source": [
    "![](../screenshots/lr_fp_var.png)"
   ]
  },
  {
   "cell_type": "markdown",
   "metadata": {},
   "source": [
    "Before running Linear, Logistic, Lasso, Ridge and Elastic Net, I manually took out some columns that had 0 correlation with my target variables. Each target variable had different 0 correlations with each columns, so it took a long time to remove obvious redundancies.\n",
    "\n",
    "However, after I ran my model, I was surprised that each target variable's Linear Regression, Lasso, Ridge and Elastic Net were very similar to each other, and my Elastic Net L1/2 ratio (the ratio and balance between the model using Lasso and Ridge) always used full Lasso over Ridge. I was fairly surprised that my fantasy points mean had an R-squared of 0.99+! R-squared can be thought of how close each point, when compared to the target variable, is to the best fit line. The closer the points are to the line, the higher the R-squared. If R-squared is 0.0, that indicates that the model does not explain any of the variability of the data and guessing what the value would be is as good as the model.\n",
    "\n",
    "Although only using the basic 9 categories of FGM/FGA, FTM/FTA, 3PTM, Points, Rebounds, Assists, Steals, Blocks and Turnovers, every single column was positively linearly correlated (positive is when 1 variable goes up, the other variable will go up as well, negative would be when 1 variable goes up, the other simultaneously goes down). However, there may be still some multicollinearity, but I don't think it's a bad thing. Multicollinearity is when 2 or more columns are so correlated that one column can predict the other column at a high accuracy. This may be a problem where the R-squared increases when it shouldn't. However, I doubt removing those features will vastly affect my score because the columns are all good predictors to my dummy targets, so at this point I was ready to move onto Random Forests."
   ]
  },
  {
   "cell_type": "markdown",
   "metadata": {},
   "source": [
    "## Logistic Regression ROC/AUC\n",
    "![](../screenshots/multiclass_roc.png)"
   ]
  },
  {
   "cell_type": "markdown",
   "metadata": {},
   "source": [
    "## Logistic Regression Classification Report\n",
    "![](../screenshots/logreg_report.png)"
   ]
  },
  {
   "cell_type": "markdown",
   "metadata": {},
   "source": [
    "Games Missed Risk was expected to perform poorly. I wasn't too surprised with the results because of the initial fantasy points mean density graph. There are more players performing lower than average due to the different amount of games a superstar or allstar performed compared to a bench player or a player on the borderline to being cut. Because of that, the previously games missed risk bar graph showed that low risk and danger had the most volume of players, so the precision that they were correctly identified was higher. Precision is when the model predicts yes, how often is it correct. However, both precision and recall were not great, there were more false negative and false positives than true positives and true negatives. Recall is how often the model predicts yes, and it is actually yes. Hence, the low F1-score. F1-score is the weighted average between precision and recall, where 0 is bad and 1 is good. The higher the value the better the predictor is at guessing correctly. This may be interesting to see if it can be tweaked a bit more, such as moving to 3 classes instead of 4, but I wanted to see how my Random Forest performed in comparison to my logistic regression. The ROC curve (Receiver Operating Characteristic) is a chart that plots the True Positives over the False Positives. The point of the curve is to make sure that when your model is predicting if it is yes or no, at what probability rate is the model predicting yes and it actually is yes, and no when it is actually yes. The diagonal line is the baseline, where guess would be the same probability. Below the line is your model guessing no more, when it is actually yes."
   ]
  },
  {
   "cell_type": "markdown",
   "metadata": {},
   "source": [
    "# ========================================================\n",
    "# Random Forest Results\n",
    "# ========================================================"
   ]
  },
  {
   "cell_type": "markdown",
   "metadata": {},
   "source": [
    "# Random Forest Mean Squared Error\n",
    "![](../screenshots/rf_mse.png)"
   ]
  },
  {
   "cell_type": "markdown",
   "metadata": {},
   "source": [
    "## Random Forest Residual Mean Squared Error\n",
    "![](../screenshots/rf_rmse.png)"
   ]
  },
  {
   "cell_type": "markdown",
   "metadata": {},
   "source": [
    "## Random Forest R-Squared\n",
    "![](../screenshots/rf_r2.png)"
   ]
  },
  {
   "cell_type": "markdown",
   "metadata": {},
   "source": [
    "## Random Forest Classification Report\n",
    "![](../screenshots/rf_report.png)"
   ]
  },
  {
   "cell_type": "markdown",
   "metadata": {},
   "source": [
    "My Random Forest performed exceptionally well for their Mean Squared Error, Residual Mean Squared Error and R^2. They are all far superior than their average (baseline) and much better than the performance than Linear/Logistic Regression, Lasso, Ridge and Elastic Net. The classification report for precision, recall and f1-score is suspect because it seems like there was overfitting because it does seem too good to be true. I may have to tweak the train-test split and also run multiple cross validations to make sure that it is returning the correct results, but a simple check on the predicted datasets for next season should give me a good idea on whether they were accurate or not. Train-test split is splitting the data up roughly 75% and 25%, then creating the model with the 75%, then testing on the 25%. This makes sure that the model did not go full bias (which is the model as lazy as possible) or full variance (which is the model trying to hit everything that will only work for that dataset and none other). Cross validation is splitting the data into 5 random, equally chunks, then validating 4 chunks to test on the 1 chunk until each of the 5 chunk was the one being tested on. For example, 1,2,3,4,5 would first use 1,2,3,4 to test on 5, then use 1,2,3,5 to test on 4, then 1,2,4,5 to test on 3, etc..."
   ]
  },
  {
   "cell_type": "markdown",
   "metadata": {},
   "source": [
    "<a href=#table_of_contents>Back to top</a>"
   ]
  },
  {
   "cell_type": "markdown",
   "metadata": {},
   "source": [
    "# VII. Conclusion <a id=conclusion></a>"
   ]
  },
  {
   "cell_type": "code",
   "execution_count": 147,
   "metadata": {
    "collapsed": false
   },
   "outputs": [
    {
     "data": {
      "text/html": [
       "<div>\n",
       "<table border=\"1\" class=\"dataframe\">\n",
       "  <thead>\n",
       "    <tr style=\"text-align: right;\">\n",
       "      <th></th>\n",
       "      <th>r1</th>\n",
       "      <th>r2</th>\n",
       "      <th>r3</th>\n",
       "      <th>r4</th>\n",
       "      <th>r5</th>\n",
       "      <th>r6</th>\n",
       "      <th>r7</th>\n",
       "      <th>r8</th>\n",
       "      <th>r9</th>\n",
       "      <th>r10</th>\n",
       "      <th>r11</th>\n",
       "      <th>r12</th>\n",
       "      <th>r13</th>\n",
       "    </tr>\n",
       "  </thead>\n",
       "  <tbody>\n",
       "    <tr>\n",
       "      <th>0</th>\n",
       "      <td>Stephen Curry</td>\n",
       "      <td>Kyle Lowry</td>\n",
       "      <td>Nikola Vucevic</td>\n",
       "      <td>CJ McCollum</td>\n",
       "      <td>Zach Randolph</td>\n",
       "      <td>Tyreke Evans</td>\n",
       "      <td>Jae Crowder</td>\n",
       "      <td>Kobe Bryant</td>\n",
       "      <td>Tony Parker</td>\n",
       "      <td>George Hill</td>\n",
       "      <td>Emmanuel Mudiay</td>\n",
       "      <td>Matt Barnes</td>\n",
       "      <td>Jose Juan Barea</td>\n",
       "    </tr>\n",
       "    <tr>\n",
       "      <th>1</th>\n",
       "      <td>Kevin Durant</td>\n",
       "      <td>Karl-Anthony Towns</td>\n",
       "      <td>Brook Lopez</td>\n",
       "      <td>Kyrie Irving</td>\n",
       "      <td>Nicolas Batum</td>\n",
       "      <td>Dwight Howard</td>\n",
       "      <td>Enes Kanter</td>\n",
       "      <td>Deron Williams</td>\n",
       "      <td>Robin Lopez</td>\n",
       "      <td>Kent Bazemore</td>\n",
       "      <td>Al-Farouq Aminu</td>\n",
       "      <td>Wesley Matthews</td>\n",
       "      <td>Amir Johnson</td>\n",
       "    </tr>\n",
       "    <tr>\n",
       "      <th>2</th>\n",
       "      <td>Russell Westbrook</td>\n",
       "      <td>Blake Griffin</td>\n",
       "      <td>LaMarcus Aldridge</td>\n",
       "      <td>Rajon Rondo</td>\n",
       "      <td>Victor Oladipo</td>\n",
       "      <td>Mike Conley</td>\n",
       "      <td>Monta Ellis</td>\n",
       "      <td>Jabari Parker</td>\n",
       "      <td>JJ Redick</td>\n",
       "      <td>Joe Johnson</td>\n",
       "      <td>Taj Gibson</td>\n",
       "      <td>Myles Turner</td>\n",
       "      <td>Jerryd Bayless</td>\n",
       "    </tr>\n",
       "    <tr>\n",
       "      <th>3</th>\n",
       "      <td>James Harden</td>\n",
       "      <td>Jimmy Butler</td>\n",
       "      <td>Chris Bosh</td>\n",
       "      <td>Greg Monroe</td>\n",
       "      <td>Marcin Gortat</td>\n",
       "      <td>Jonas Valanciunas</td>\n",
       "      <td>Nerlens Noel</td>\n",
       "      <td>Jordan Clarkson</td>\n",
       "      <td>Rudy Gobert</td>\n",
       "      <td>Zaza Pachulia</td>\n",
       "      <td>Harrison Barnes</td>\n",
       "      <td>Dennis Schroder</td>\n",
       "      <td>Mirza Teletovic</td>\n",
       "    </tr>\n",
       "    <tr>\n",
       "      <th>4</th>\n",
       "      <td>LeBron James</td>\n",
       "      <td>Isaiah Thomas</td>\n",
       "      <td>Hassan Whiteside</td>\n",
       "      <td>Reggie Jackson</td>\n",
       "      <td>Andre Drummond</td>\n",
       "      <td>Kristaps Porzingis</td>\n",
       "      <td>Kenneth Faried</td>\n",
       "      <td>Nikola Jokic</td>\n",
       "      <td>Evan Turner</td>\n",
       "      <td>Ian Mahinmi</td>\n",
       "      <td>Robert Covington</td>\n",
       "      <td>Alec Burks</td>\n",
       "      <td>Alex Len</td>\n",
       "    </tr>\n",
       "    <tr>\n",
       "      <th>5</th>\n",
       "      <td>DeMarcus Cousins</td>\n",
       "      <td>Pau Gasol</td>\n",
       "      <td>Giannis Antetokounmpo</td>\n",
       "      <td>Dirk Nowitzki</td>\n",
       "      <td>Rudy Gay</td>\n",
       "      <td>Goran Dragic</td>\n",
       "      <td>Gorgui Dieng</td>\n",
       "      <td>Elfrid Payton</td>\n",
       "      <td>Tim Duncan</td>\n",
       "      <td>Omri Casspi</td>\n",
       "      <td>Devin Booker</td>\n",
       "      <td>J.R. Smith</td>\n",
       "      <td>Ersan Ilyasova</td>\n",
       "    </tr>\n",
       "    <tr>\n",
       "      <th>6</th>\n",
       "      <td>Chris Paul</td>\n",
       "      <td>John Wall</td>\n",
       "      <td>Gordon Hayward</td>\n",
       "      <td>Derrick Favors</td>\n",
       "      <td>Brandon Knight</td>\n",
       "      <td>Bradley Beal</td>\n",
       "      <td>Darren Collison</td>\n",
       "      <td>Avery Bradley</td>\n",
       "      <td>Kentavious Caldwell-Pope</td>\n",
       "      <td>Mason Plumlee</td>\n",
       "      <td>Arron Afflalo</td>\n",
       "      <td>PJ Tucker</td>\n",
       "      <td>Jordan Hill</td>\n",
       "    </tr>\n",
       "    <tr>\n",
       "      <th>7</th>\n",
       "      <td>Paul George</td>\n",
       "      <td>Carmelo Anthony</td>\n",
       "      <td>Klay Thompson</td>\n",
       "      <td>Khris Middleton</td>\n",
       "      <td>Andrew Wiggins</td>\n",
       "      <td>Ryan Anderson</td>\n",
       "      <td>Chandler Parsons</td>\n",
       "      <td>Marcus Morris</td>\n",
       "      <td>Lou Williams</td>\n",
       "      <td>D'Angelo Russell</td>\n",
       "      <td>Gary Harris</td>\n",
       "      <td>Norris Cole</td>\n",
       "      <td>Kelly Olynyk</td>\n",
       "    </tr>\n",
       "    <tr>\n",
       "      <th>8</th>\n",
       "      <td>Damian Lillard</td>\n",
       "      <td>Kemba Walker</td>\n",
       "      <td>Al Horford</td>\n",
       "      <td>Danilo Gallinari</td>\n",
       "      <td>DeAndre Jordan</td>\n",
       "      <td>Jarrett Jack</td>\n",
       "      <td>Serge Ibaka</td>\n",
       "      <td>Luol Deng</td>\n",
       "      <td>Trevor Ariza</td>\n",
       "      <td>Jamal Crawford</td>\n",
       "      <td>Jeff Green</td>\n",
       "      <td>Tyson Chandler</td>\n",
       "      <td>Jose Calderon</td>\n",
       "    </tr>\n",
       "    <tr>\n",
       "      <th>9</th>\n",
       "      <td>Anthony Davis</td>\n",
       "      <td>Paul Millsap</td>\n",
       "      <td>Kevin Love</td>\n",
       "      <td>Thaddeus Young</td>\n",
       "      <td>Ricky Rubio</td>\n",
       "      <td>Derrick Rose</td>\n",
       "      <td>Julius Randle</td>\n",
       "      <td>Marvin Williams</td>\n",
       "      <td>Eric Gordon</td>\n",
       "      <td>Nikola Mirotic</td>\n",
       "      <td>Patrick Beverley</td>\n",
       "      <td>TJ Warren</td>\n",
       "      <td>Steven Adams</td>\n",
       "    </tr>\n",
       "    <tr>\n",
       "      <th>10</th>\n",
       "      <td>Kawhi Leonard</td>\n",
       "      <td>Eric Bledsoe</td>\n",
       "      <td>Marc Gasol</td>\n",
       "      <td>Jahlil Okafor</td>\n",
       "      <td>Jeff Teague</td>\n",
       "      <td>Ish Smith</td>\n",
       "      <td>Evan Fournier</td>\n",
       "      <td>Jared Sullinger</td>\n",
       "      <td>Zach LaVine</td>\n",
       "      <td>Aaron Gordon</td>\n",
       "      <td>Tristan Thompson</td>\n",
       "      <td>Cody Zeller</td>\n",
       "      <td>DeMarre Carroll</td>\n",
       "    </tr>\n",
       "    <tr>\n",
       "      <th>11</th>\n",
       "      <td>DeMar DeRozan</td>\n",
       "      <td>Draymond Green</td>\n",
       "      <td>Dwyane Wade</td>\n",
       "      <td>Jrue Holiday</td>\n",
       "      <td>Tobias Harris</td>\n",
       "      <td>Will Barton</td>\n",
       "      <td>Michael Carter-Williams</td>\n",
       "      <td>Rodney Hood</td>\n",
       "      <td>Otto Porter</td>\n",
       "      <td>Markieff Morris</td>\n",
       "      <td>Jeremy Lin</td>\n",
       "      <td>Raymond Felton</td>\n",
       "      <td>Marcus Smart</td>\n",
       "    </tr>\n",
       "  </tbody>\n",
       "</table>\n",
       "</div>"
      ],
      "text/plain": [
       "                   r1                  r2                     r3  \\\n",
       "0       Stephen Curry          Kyle Lowry         Nikola Vucevic   \n",
       "1        Kevin Durant  Karl-Anthony Towns            Brook Lopez   \n",
       "2   Russell Westbrook       Blake Griffin      LaMarcus Aldridge   \n",
       "3        James Harden        Jimmy Butler             Chris Bosh   \n",
       "4        LeBron James       Isaiah Thomas       Hassan Whiteside   \n",
       "5    DeMarcus Cousins           Pau Gasol  Giannis Antetokounmpo   \n",
       "6          Chris Paul           John Wall         Gordon Hayward   \n",
       "7         Paul George     Carmelo Anthony          Klay Thompson   \n",
       "8      Damian Lillard        Kemba Walker             Al Horford   \n",
       "9       Anthony Davis        Paul Millsap             Kevin Love   \n",
       "10      Kawhi Leonard        Eric Bledsoe             Marc Gasol   \n",
       "11      DeMar DeRozan      Draymond Green            Dwyane Wade   \n",
       "\n",
       "                  r4              r5                  r6  \\\n",
       "0        CJ McCollum   Zach Randolph        Tyreke Evans   \n",
       "1       Kyrie Irving   Nicolas Batum       Dwight Howard   \n",
       "2        Rajon Rondo  Victor Oladipo         Mike Conley   \n",
       "3        Greg Monroe   Marcin Gortat   Jonas Valanciunas   \n",
       "4     Reggie Jackson  Andre Drummond  Kristaps Porzingis   \n",
       "5      Dirk Nowitzki        Rudy Gay        Goran Dragic   \n",
       "6     Derrick Favors  Brandon Knight        Bradley Beal   \n",
       "7    Khris Middleton  Andrew Wiggins       Ryan Anderson   \n",
       "8   Danilo Gallinari  DeAndre Jordan        Jarrett Jack   \n",
       "9     Thaddeus Young     Ricky Rubio        Derrick Rose   \n",
       "10     Jahlil Okafor     Jeff Teague           Ish Smith   \n",
       "11      Jrue Holiday   Tobias Harris         Will Barton   \n",
       "\n",
       "                         r7               r8                        r9  \\\n",
       "0               Jae Crowder      Kobe Bryant               Tony Parker   \n",
       "1               Enes Kanter   Deron Williams               Robin Lopez   \n",
       "2               Monta Ellis    Jabari Parker                 JJ Redick   \n",
       "3              Nerlens Noel  Jordan Clarkson               Rudy Gobert   \n",
       "4            Kenneth Faried     Nikola Jokic               Evan Turner   \n",
       "5              Gorgui Dieng    Elfrid Payton                Tim Duncan   \n",
       "6           Darren Collison    Avery Bradley  Kentavious Caldwell-Pope   \n",
       "7          Chandler Parsons    Marcus Morris              Lou Williams   \n",
       "8               Serge Ibaka        Luol Deng              Trevor Ariza   \n",
       "9             Julius Randle  Marvin Williams               Eric Gordon   \n",
       "10            Evan Fournier  Jared Sullinger               Zach LaVine   \n",
       "11  Michael Carter-Williams      Rodney Hood               Otto Porter   \n",
       "\n",
       "                 r10               r11              r12              r13  \n",
       "0        George Hill   Emmanuel Mudiay      Matt Barnes  Jose Juan Barea  \n",
       "1      Kent Bazemore   Al-Farouq Aminu  Wesley Matthews     Amir Johnson  \n",
       "2        Joe Johnson        Taj Gibson     Myles Turner   Jerryd Bayless  \n",
       "3      Zaza Pachulia   Harrison Barnes  Dennis Schroder  Mirza Teletovic  \n",
       "4        Ian Mahinmi  Robert Covington       Alec Burks         Alex Len  \n",
       "5        Omri Casspi      Devin Booker       J.R. Smith   Ersan Ilyasova  \n",
       "6      Mason Plumlee     Arron Afflalo        PJ Tucker      Jordan Hill  \n",
       "7   D'Angelo Russell       Gary Harris      Norris Cole     Kelly Olynyk  \n",
       "8     Jamal Crawford        Jeff Green   Tyson Chandler    Jose Calderon  \n",
       "9     Nikola Mirotic  Patrick Beverley        TJ Warren     Steven Adams  \n",
       "10      Aaron Gordon  Tristan Thompson      Cody Zeller  DeMarre Carroll  \n",
       "11   Markieff Morris        Jeremy Lin   Raymond Felton     Marcus Smart  "
      ]
     },
     "execution_count": 147,
     "metadata": {},
     "output_type": "execute_result"
    }
   ],
   "source": [
    "tmp[['r1', 'r2', 'r3', 'r4', 'r5', 'r6', 'r7', 'r8', 'r9', 'r10', 'r11', 'r12', 'r13']]"
   ]
  },
  {
   "cell_type": "markdown",
   "metadata": {},
   "source": [
    "The above dataframe is my predictions for 2016-17 season. There is no way to justify whether or not my predictions are correct or not until the end of the season, but based on experience, there are a couple of hiccups. First off, DeMar DeRozan should never be 1st round and Kobe Bryant and Tim Duncan are retired. But overall just taking a quick glance, it does seem relatively good.\n",
    "\n",
    "What I find really great is the first 5 rounds are relatively accurate and those groups are players I would definitely draft in standard league. But in later rounds it seems past performances have been weighted a bit too strong and I may need to find a way to find a way to balance it statistically. Another thing is, there are players who have been injured during the offseason and won't be back at the beginning of the season, such as Gordon Hayward and Khris Middleton. But if they weren't injured, they are in good positions. Overall, I am happy that my ranking system isn't ridiculously bad and a few tweaks in the weighting system might create a better ranking system."
   ]
  },
  {
   "cell_type": "markdown",
   "metadata": {},
   "source": [
    "# ========================================================\n",
    "# Next Step\n",
    "# ========================================================"
   ]
  },
  {
   "cell_type": "markdown",
   "metadata": {},
   "source": [
    "This project still has a ton of possibilities to work with. Here are a couple of things I would definitely do to try and improve my projects.\n",
    "1. Figure out some way to tweak the weights to help update the model.\n",
    "2. Find a better way to combine all the predicted target values together to weight the ranks better.\n",
    "3. Subset the entire dataframe again to remove all the players who played less than a certain amount of games and rerun all my models\n",
    "4. Research more possible target dummy variables\n",
    "5. Maybe do a cluster to see what happens\n",
    "\n",
    "Overall, I will continue to work on this project, but not day-to-day. I'm interested to wait for the end of the season to see how well my predicted ranks actually did. Depending on how well my model worked, I can tweak my models better."
   ]
  },
  {
   "cell_type": "markdown",
   "metadata": {},
   "source": [
    "<a href=#table_of_contents>Back to top</a>"
   ]
  }
 ],
 "metadata": {
  "anaconda-cloud": {},
  "kernelspec": {
   "display_name": "Python [dsi]",
   "language": "python",
   "name": "Python [dsi]"
  },
  "language_info": {
   "codemirror_mode": {
    "name": "ipython",
    "version": 2
   },
   "file_extension": ".py",
   "mimetype": "text/x-python",
   "name": "python",
   "nbconvert_exporter": "python",
   "pygments_lexer": "ipython2",
   "version": "2.7.12"
  }
 },
 "nbformat": 4,
 "nbformat_minor": 0
}
