{
 "cells": [
  {
   "cell_type": "code",
   "execution_count": 1,
   "metadata": {
    "collapsed": true
   },
   "outputs": [],
   "source": [
    "import pandas as pd\n",
    "import numpy as np\n",
    "import requests\n",
    "import time\n",
    "from scrapy.selector import Selector\n",
    "from scrapy.http import HtmlResponse\n",
    "from selenium import webdriver\n",
    "from bs4 import BeautifulSoup\n",
    "import json\n",
    "\n",
    "chromedriver = \"/Users/edwardlee/Desktop/chromedriver\""
   ]
  },
  {
   "cell_type": "code",
   "execution_count": 2,
   "metadata": {
    "collapsed": false
   },
   "outputs": [],
   "source": [
    "browser = webdriver.Chrome(executable_path = chromedriver)"
   ]
  },
  {
   "cell_type": "code",
   "execution_count": 3,
   "metadata": {
    "collapsed": false
   },
   "outputs": [],
   "source": [
    "# Get all years for 1996-2016\n",
    "browser.get('http://stats.nba.com/league/player/')\n",
    "HTML = browser.page_source\n",
    "time.sleep(5)\n",
    "year_data = Selector(text=HTML).xpath(\"//select[@name='Season']/option/text()\").extract()\n",
    "# all_stats = Selector(text=HTML).xpath(\"//select[@name='section-links']/option/text()\").extract()\n",
    "time.sleep(5)\n",
    "\n",
    "# Get all years for gamelogs from 1947-2016\n",
    "browser.get('http://stats.nba.com/league/player/#!/gamelogs/')\n",
    "HTML_logs = browser.page_source\n",
    "time.sleep(5)\n",
    "logs_year = Selector(text=HTML_logs).xpath(\"//select[@name='Season']/option/text()\").extract()\n",
    "time.sleep(5)\n",
    "\n",
    "# Get all play types for category Play Type\n",
    "# browser.get('http://stats.nba.com/league/player/#!/playtype/')\n",
    "# HTML_play_type = browser.page_source\n",
    "# play_type_cats = Selector(text=HTML_play_type).xpath(\"//div[@class='tabs-wrap']/div[@class='tab']/a/text()\").extract()"
   ]
  },
  {
   "cell_type": "code",
   "execution_count": null,
   "metadata": {
    "collapsed": true
   },
   "outputs": [],
   "source": []
  },
  {
   "cell_type": "code",
   "execution_count": 18,
   "metadata": {
    "collapsed": true
   },
   "outputs": [],
   "source": [
    "# Remove first array that says \"All Season\"\n",
    "logs_year = logs_year[1:]"
   ]
  },
  {
   "cell_type": "code",
   "execution_count": 19,
   "metadata": {
    "collapsed": false
   },
   "outputs": [],
   "source": [
    "# Set parameters\n",
    "general_para  = ['Base', 'Advanced', 'Misc', 'Scoring', 'Usage', 'Opponent', 'Defense']\n",
    "clutch_para   = ['Base', 'Advanced', 'Misc', 'Scoring', 'Usage']\n",
    "shoot_para = ['Base', 'Opponent']\n",
    "playtype_para = ['Transition', 'Isolation', 'PRBallHandler', 'PRRollman', 'Postup', 'Spotup', 'Handoff', 'Cut', 'OffScreen', 'OffRebound', 'Misc']"
   ]
  },
  {
   "cell_type": "code",
   "execution_count": 29,
   "metadata": {
    "collapsed": true
   },
   "outputs": [],
   "source": [
    "## Traditional\n",
    "# Base\n",
    "trad_base = 'http://stats.nba.com/stats/leaguedashplayerstats?College=&Conference=&Country=&DateFrom=&DateTo=&Division=&DraftPick=&DraftYear=&GameScope=&GameSegment=&Height=&LastNGames=0&LeagueID=00&Location=&MeasureType=%s&Month=0&OpponentTeamID=0&Outcome=&PORound=0&PaceAdjust=N&PerMode=Totals&Period=0&PlayerExperience=&PlayerPosition=&PlusMinus=N&Rank=N&Season=%s&SeasonSegment=&SeasonType=Regular+Season&ShotClockRange=&StarterBench=&TeamID=0&VsConference=&VsDivision=&Weight='\n",
    "\n",
    "# Advanced\n",
    "trad_adv = 'http://stats.nba.com/stats/leaguedashplayerstats?College=&Conference=&Country=&DateFrom=&DateTo=&Division=&DraftPick=&DraftYear=&GameScope=&GameSegment=&Height=&LastNGames=0&LeagueID=00&Location=&MeasureType=%s&Month=0&OpponentTeamID=0&Outcome=&PORound=0&PaceAdjust=N&PerMode=Totals&Period=0&PlayerExperience=&PlayerPosition=&PlusMinus=N&Rank=N&Season=%s&SeasonSegment=&SeasonType=Regular+Season&ShotClockRange=&StarterBench=&TeamID=0&VsConference=&VsDivision=&Weight='\n",
    "\n",
    "# Misc\n",
    "trad_misc = 'http://stats.nba.com/stats/leaguedashplayerstats?College=&Conference=&Country=&DateFrom=&DateTo=&Division=&DraftPick=&DraftYear=&GameScope=&GameSegment=&Height=&LastNGames=0&LeagueID=00&Location=&MeasureType=%s&Month=0&OpponentTeamID=0&Outcome=&PORound=0&PaceAdjust=N&PerMode=Totals&Period=0&PlayerExperience=&PlayerPosition=&PlusMinus=N&Rank=N&Season=%s&SeasonSegment=&SeasonType=Regular+Season&ShotClockRange=&StarterBench=&TeamID=0&VsConference=&VsDivision=&Weight='\n",
    "\n",
    "# Scoring\n",
    "trad_score = 'http://stats.nba.com/stats/leaguedashplayerstats?College=&Conference=&Country=&DateFrom=&DateTo=&Division=&DraftPick=&DraftYear=&GameScope=&GameSegment=&Height=&LastNGames=0&LeagueID=00&Location=&MeasureType=%s&Month=0&OpponentTeamID=0&Outcome=&PORound=0&PaceAdjust=N&PerMode=Totals&Period=0&PlayerExperience=&PlayerPosition=&PlusMinus=N&Rank=N&Season=%s&SeasonSegment=&SeasonType=Regular+Season&ShotClockRange=&StarterBench=&TeamID=0&VsConference=&VsDivision=&Weight='\n",
    "\n",
    "# Usage\n",
    "trad_usage = 'http://stats.nba.com/stats/leaguedashplayerstats?College=&Conference=&Country=&DateFrom=&DateTo=&Division=&DraftPick=&DraftYear=&GameScope=&GameSegment=&Height=&LastNGames=0&LeagueID=00&Location=&MeasureType=%s&Month=0&OpponentTeamID=0&Outcome=&PORound=0&PaceAdjust=N&PerMode=Totals&Period=0&PlayerExperience=&PlayerPosition=&PlusMinus=N&Rank=N&Season=%s&SeasonSegment=&SeasonType=Regular+Season&ShotClockRange=&StarterBench=&TeamID=0&VsConference=&VsDivision=&Weight='\n",
    "\n",
    "# Opponent\n",
    "trad_opp = 'http://stats.nba.com/stats/leagueplayerondetails?College=&Conference=&Country=&DateFrom=&DateTo=&Division=&DraftPick=&DraftYear=&GameScope=&GameSegment=&Height=&LastNGames=0&LeagueID=00&Location=&MeasureType=%s&Month=0&OpponentTeamID=0&Outcome=&PORound=0&PaceAdjust=N&PerMode=Totals&Period=0&PlayerExperience=&PlayerPosition=&PlusMinus=N&Rank=N&Season=%s&SeasonSegment=&SeasonType=Regular+Season&ShotClockRange=&StarterBench=&TeamID=0&VsConference=&VsDivision=&Weight='\n",
    "\n",
    "# Defense\n",
    "trad_def = 'http://stats.nba.com/stats/leaguedashplayerstats?College=&Conference=&Country=&DateFrom=&DateTo=&Division=&DraftPick=&DraftYear=&GameScope=&GameSegment=&Height=&LastNGames=0&LeagueID=00&Location=&MeasureType=%s&Month=0&OpponentTeamID=0&Outcome=&PORound=0&PaceAdjust=N&PerMode=Totals&Period=0&PlayerExperience=&PlayerPosition=&PlusMinus=N&Rank=N&Season=%s&SeasonSegment=&SeasonType=Regular+Season&ShotClockRange=&StarterBench=&TeamID=0&VsConference=&VsDivision=&Weight='\n",
    "\n",
    "## Clutch\n",
    "# Base\n",
    "clutch_base = 'http://stats.nba.com/stats/leaguedashplayerclutch?AheadBehind=Ahead+or+Behind&ClutchTime=Last+5+Minutes&College=&Conference=&Country=&DateFrom=&DateTo=&Division=&DraftPick=&DraftYear=&GameScope=&GameSegment=&Height=&LastNGames=0&LeagueID=00&Location=&MeasureType=%s&Month=0&OpponentTeamID=0&Outcome=&PORound=0&PaceAdjust=N&PerMode=Per48&Period=4&PlayerExperience=&PlayerPosition=&PlusMinus=N&PointDiff=5&Rank=N&Season=%s&SeasonSegment=&SeasonType=Regular+Season&ShotClockRange=&StarterBench=&TeamID=0&VsConference=&VsDivision=&Weight='\n",
    "\n",
    "# Advanced\n",
    "clutch_adv = 'http://stats.nba.com/stats/leaguedashplayerclutch?AheadBehind=Ahead+or+Behind&ClutchTime=Last+5+Minutes&College=&Conference=&Country=&DateFrom=&DateTo=&Division=&DraftPick=&DraftYear=&GameScope=&GameSegment=&Height=&LastNGames=0&LeagueID=00&Location=&MeasureType=%s&Month=0&OpponentTeamID=0&Outcome=&PORound=0&PaceAdjust=N&PerMode=Per48&Period=4&PlayerExperience=&PlayerPosition=&PlusMinus=N&PointDiff=5&Rank=N&Season=%s&SeasonSegment=&SeasonType=Regular+Season&ShotClockRange=&StarterBench=&TeamID=0&VsConference=&VsDivision=&Weight='\n",
    "\n",
    "# Misc\n",
    "clutch_misc = 'http://stats.nba.com/stats/leaguedashplayerclutch?AheadBehind=Ahead+or+Behind&ClutchTime=Last+5+Minutes&College=&Conference=&Country=&DateFrom=&DateTo=&Division=&DraftPick=&DraftYear=&GameScope=&GameSegment=&Height=&LastNGames=0&LeagueID=00&Location=&MeasureType=%s&Month=0&OpponentTeamID=0&Outcome=&PORound=0&PaceAdjust=N&PerMode=Per48&Period=4&PlayerExperience=&PlayerPosition=&PlusMinus=N&PointDiff=5&Rank=N&Season=%s&SeasonSegment=&SeasonType=Regular+Season&ShotClockRange=&StarterBench=&TeamID=0&VsConference=&VsDivision=&Weight='\n",
    "\n",
    "# Scoring\n",
    "clutch_score = 'http://stats.nba.com/stats/leaguedashplayerclutch?AheadBehind=Ahead+or+Behind&ClutchTime=Last+5+Minutes&College=&Conference=&Country=&DateFrom=&DateTo=&Division=&DraftPick=&DraftYear=&GameScope=&GameSegment=&Height=&LastNGames=0&LeagueID=00&Location=&MeasureType=%s&Month=0&OpponentTeamID=0&Outcome=&PORound=0&PaceAdjust=N&PerMode=Per48&Period=4&PlayerExperience=&PlayerPosition=&PlusMinus=N&PointDiff=5&Rank=N&Season=%s&SeasonSegment=&SeasonType=Regular+Season&ShotClockRange=&StarterBench=&TeamID=0&VsConference=&VsDivision=&Weight='\n",
    "\n",
    "# Usage\n",
    "clutch_usage = 'http://stats.nba.com/stats/leaguedashplayerclutch?AheadBehind=Ahead+or+Behind&ClutchTime=Last+5+Minutes&College=&Conference=&Country=&DateFrom=&DateTo=&Division=&DraftPick=&DraftYear=&GameScope=&GameSegment=&Height=&LastNGames=0&LeagueID=00&Location=&MeasureType=%s&Month=0&OpponentTeamID=0&Outcome=&PORound=0&PaceAdjust=N&PerMode=Per48&Period=4&PlayerExperience=&PlayerPosition=&PlusMinus=N&PointDiff=5&Rank=N&Season=%s&SeasonSegment=&SeasonType=Regular+Season&ShotClockRange=&StarterBench=&TeamID=0&VsConference=&VsDivision=&Weight='\n",
    "\n",
    "## Shooting\n",
    "# Shooting Stats\n",
    "shooting = 'http://stats.nba.com/stats/leaguedashplayershotlocations?College=&Conference=&Country=&DateFrom=&DateTo=&DistanceRange=5ft+Range&Division=&DraftPick=&DraftYear=&GameScope=&GameSegment=&Height=&LastNGames=0&LeagueID=00&Location=&MeasureType=%s&Month=0&OpponentTeamID=0&Outcome=&PORound=0&PaceAdjust=N&PerMode=Totals&Period=0&PlayerExperience=&PlayerPosition=&PlusMinus=N&Rank=N&Season=%s&SeasonSegment=&SeasonType=Regular+Season&ShotClockRange=&StarterBench=&TeamID=0&VsConference=&VsDivision=&Weight='\n",
    "\n",
    "# Opponent Shooting Stats\n",
    "opp_shooting = 'http://stats.nba.com/stats/leaguedashplayershotlocations?College=&Conference=&Country=&DateFrom=&DateTo=&DistanceRange=5ft+Range&Division=&DraftPick=&DraftYear=&GameScope=&GameSegment=&Height=&LastNGames=0&LeagueID=00&Location=&MeasureType=%s&Month=0&OpponentTeamID=0&Outcome=&PORound=0&PaceAdjust=N&PerMode=Totals&Period=0&PlayerExperience=&PlayerPosition=&PlusMinus=N&Rank=N&Season=%s&SeasonSegment=&SeasonType=Regular+Season&ShotClockRange=&StarterBench=&TeamID=0&VsConference=&VsDivision=&Weight='\n",
    "\n",
    "## Player Bios\n",
    "player_bios = 'http://stats.nba.com/stats/leaguedashplayerbiostats?College=&Conference=&Country=&DateFrom=&DateTo=&Division=&DraftPick=&DraftYear=&GameScope=&GameSegment=&Height=&LastNGames=0&LeagueID=00&Location=&Month=0&OpponentTeamID=0&Outcome=&PORound=0&PerMode=Totals&Period=0&PlayerExperience=&PlayerPosition=&Season=%s&SeasonSegment=&SeasonType=Regular+Season&ShotClockRange=&StarterBench=&TeamID=0&VsConference=&VsDivision=&Weight='\n",
    "\n",
    "### Tracking Shots (Data fails to load on website)\n",
    "    \n",
    "## Game Log, sorted by Date (1946-2015)\n",
    "game_log = 'http://stats.nba.com/stats/leaguegamelog?Counter=1000&Direction=DESC&LeagueID=00&PlayerOrTeam=P&Season=%s&SeasonType=Regular+Season&Sorter=DATE'\n",
    "\n",
    "## Play Type (2015-16 only)\n",
    "play_type = 'http://stats-prod.nba.com/wp-json/statscms/v1/synergy/player/?category=%s&limit=500&name=offensive&q=2456678&season=2015&seasonType=Reg'\n",
    "\n",
    "## Hustle Stats (2015-16 only)\n",
    "hustle = 'http://stats.nba.com/stats/leaguehustlestatsplayer?College=&Conference=&Country=&DateFrom=&DateTo=&Division=&DraftPick=&DraftYear=&GameScope=&GameSegment=&Height=&LastNGames=0&LeagueID=00&Location=&Month=0&OpponentTeamID=0&Outcome=&PORound=0&PaceAdjust=N&PerMode=Totals&Period=0&PlayerExperience=&PlayerPosition=&PlusMinus=N&Rank=N&Season=2015-16&SeasonSegment=&SeasonType=Playoffs&ShotClockRange=&StarterBench=&TeamID=0&VsConference=&VsDivision=&Weight='"
   ]
  },
  {
   "cell_type": "code",
   "execution_count": 30,
   "metadata": {
    "collapsed": false
   },
   "outputs": [],
   "source": [
    "# Save all loop-able links into lists to loop later\n",
    "traditional_stats = [trad_base, trad_adv, trad_misc, trad_score, trad_usage, trad_opp, trad_def]\n",
    "clutch_stats      = [clutch_base, clutch_adv, clutch_misc, clutch_score, clutch_usage]\n",
    "shoot_stats       = [shooting, opp_shooting]"
   ]
  },
  {
   "cell_type": "code",
   "execution_count": 25,
   "metadata": {
    "collapsed": false,
    "scrolled": true
   },
   "outputs": [
    {
     "name": "stdout",
     "output_type": "stream",
     "text": [
      "Base 2015-16\n",
      "Base 2014-15\n",
      "Base 2013-14\n",
      "Base 2012-13\n",
      "Base 2011-12\n",
      "Base 2010-11\n",
      "Base 2009-10\n",
      "Base 2008-09\n",
      "Base 2007-08\n",
      "Base 2006-07\n",
      "Base 2005-06\n",
      "Base 2004-05\n",
      "Base 2003-04\n",
      "Base 2002-03\n",
      "Base 2001-02\n",
      "Base 2000-01\n",
      "Base 1999-00\n",
      "Base 1998-99\n",
      "Base 1997-98\n",
      "Base 1996-97\n",
      "Advanced 2015-16\n",
      "Advanced 2014-15\n",
      "Advanced 2013-14\n",
      "Advanced 2012-13\n",
      "Advanced 2011-12\n",
      "Advanced 2010-11\n",
      "Advanced 2009-10\n",
      "Advanced 2008-09\n",
      "Advanced 2007-08\n",
      "Advanced 2006-07\n",
      "Advanced 2005-06\n",
      "Advanced 2004-05\n",
      "Advanced 2003-04\n",
      "Advanced 2002-03\n",
      "Advanced 2001-02\n",
      "Advanced 2000-01\n",
      "Advanced 1999-00\n",
      "Advanced 1998-99\n",
      "Advanced 1997-98\n",
      "Advanced 1996-97\n",
      "Misc 2015-16\n",
      "Misc 2014-15\n",
      "Misc 2013-14\n",
      "Misc 2012-13\n",
      "Misc 2011-12\n",
      "Misc 2010-11\n",
      "Misc 2009-10\n",
      "Misc 2008-09\n",
      "Misc 2007-08\n",
      "Misc 2006-07\n",
      "Misc 2005-06\n",
      "Misc 2004-05\n",
      "Misc 2003-04\n",
      "Misc 2002-03\n",
      "Misc 2001-02\n",
      "Misc 2000-01\n",
      "Misc 1999-00\n",
      "Misc 1998-99\n",
      "Misc 1997-98\n",
      "Misc 1996-97\n",
      "Scoring 2015-16\n",
      "Scoring 2014-15\n",
      "Scoring 2013-14\n",
      "Scoring 2012-13\n",
      "Scoring 2011-12\n",
      "Scoring 2010-11\n",
      "Scoring 2009-10\n",
      "Scoring 2008-09\n",
      "Scoring 2007-08\n",
      "Scoring 2006-07\n",
      "Scoring 2005-06\n",
      "Scoring 2004-05\n",
      "Scoring 2003-04\n",
      "Scoring 2002-03\n",
      "Scoring 2001-02\n",
      "Scoring 2000-01\n",
      "Scoring 1999-00\n",
      "Scoring 1998-99\n",
      "Scoring 1997-98\n",
      "Scoring 1996-97\n",
      "Usage 2015-16\n",
      "Usage 2014-15\n",
      "Usage 2013-14\n",
      "Usage 2012-13\n",
      "Usage 2011-12\n",
      "Usage 2010-11\n",
      "Usage 2009-10\n",
      "Usage 2008-09\n",
      "Usage 2007-08\n",
      "Usage 2006-07\n",
      "Usage 2005-06\n",
      "Usage 2004-05\n",
      "Usage 2003-04\n",
      "Usage 2002-03\n",
      "Usage 2001-02\n",
      "Usage 2000-01\n",
      "Usage 1999-00\n",
      "Usage 1998-99\n",
      "Usage 1997-98\n",
      "Usage 1996-97\n",
      "Opponent 2015-16\n",
      "Opponent 2014-15\n",
      "Opponent 2013-14\n",
      "Opponent 2012-13\n",
      "Opponent 2011-12\n",
      "Opponent 2010-11\n",
      "Opponent 2009-10\n",
      "Opponent 2008-09\n",
      "Opponent 2007-08\n",
      "Opponent 2006-07\n",
      "Opponent 2005-06\n",
      "Opponent 2004-05\n",
      "Opponent 2003-04\n",
      "Opponent 2002-03\n",
      "Opponent 2001-02\n",
      "Opponent 2000-01\n",
      "Opponent 1999-00\n",
      "Opponent 1998-99\n",
      "Opponent 1997-98\n",
      "Opponent 1996-97\n",
      "Defense 2015-16\n",
      "Defense 2014-15\n",
      "Defense 2013-14\n",
      "Defense 2012-13\n",
      "Defense 2011-12\n",
      "Defense 2010-11\n",
      "Defense 2009-10\n",
      "Defense 2008-09\n",
      "Defense 2007-08\n",
      "Defense 2006-07\n",
      "Defense 2005-06\n",
      "Defense 2004-05\n",
      "Defense 2003-04\n",
      "Defense 2002-03\n",
      "Defense 2001-02\n",
      "Defense 2000-01\n",
      "Defense 1999-00\n",
      "Defense 1998-99\n",
      "Defense 1997-98\n",
      "Defense 1996-97\n"
     ]
    }
   ],
   "source": [
    "browser = webdriver.Chrome(executable_path = chromedriver)\n",
    "# Traditional Stats, 1996-2016, 7 unique parameters\n",
    "for trad, stats in zip(traditional_stats, general_para):\n",
    "    for year in year_data:\n",
    "        print stats, year\n",
    "        # Update and save link into variable\n",
    "        link = trad % (stats, year)\n",
    "        # Open browser driver through selenium\n",
    "        browser.get(link)\n",
    "        # Save selenium page source into variable\n",
    "        HTML = browser.page_source\n",
    "        # Save page source into beautifulsoup format\n",
    "        soup = BeautifulSoup(HTML)\n",
    "        try:\n",
    "            # Get all text within <pre> tag and decode from utf-8\n",
    "            get_text = soup.findAll('pre')[0].getText().encode('utf-8')\n",
    "            # Load text as json\n",
    "            json_text = json.loads(get_text)\n",
    "            # Save json into pandas dataframe\n",
    "            data = pd.DataFrame(json_text['resultSets'][0]['rowSet'], columns=json_text['resultSets'][0]['headers'])\n",
    "            # Save to csv\n",
    "            save_csv = '/Users/edwardlee/Desktop/PROJECTS/NBA Fantasy Project/datasets/traditional_stats/%s_%s.csv' % (stats,year)\n",
    "            data.to_csv(save_csv)\n",
    "        except:\n",
    "            print 'Failed', link\n",
    "        time.sleep(2*np.random.rand())\n",
    "\n",
    "browser.quit()"
   ]
  },
  {
   "cell_type": "code",
   "execution_count": 31,
   "metadata": {
    "collapsed": false,
    "scrolled": true
   },
   "outputs": [
    {
     "name": "stdout",
     "output_type": "stream",
     "text": [
      "Base 2015-16\n",
      "Base 2014-15\n",
      "Base 2013-14\n",
      "Base 2012-13\n",
      "Base 2011-12\n",
      "Base 2010-11\n",
      "Base 2009-10\n",
      "Base 2008-09\n",
      "Base 2007-08\n",
      "Base 2006-07\n",
      "Base 2005-06\n",
      "Base 2004-05\n",
      "Base 2003-04\n",
      "Base 2002-03\n",
      "Base 2001-02\n",
      "Base 2000-01\n",
      "Base 1999-00\n",
      "Base 1998-99\n",
      "Base 1997-98\n",
      "Base 1996-97\n",
      "Advanced 2015-16\n",
      "Advanced 2014-15\n",
      "Advanced 2013-14\n",
      "Advanced 2012-13\n",
      "Advanced 2011-12\n",
      "Advanced 2010-11\n",
      "Advanced 2009-10\n",
      "Advanced 2008-09\n",
      "Advanced 2007-08\n",
      "Advanced 2006-07\n",
      "Advanced 2005-06\n",
      "Advanced 2004-05\n",
      "Advanced 2003-04\n",
      "Advanced 2002-03\n",
      "Advanced 2001-02\n",
      "Advanced 2000-01\n",
      "Advanced 1999-00\n",
      "Advanced 1998-99\n",
      "Advanced 1997-98\n",
      "Advanced 1996-97\n",
      "Misc 2015-16\n",
      "Misc 2014-15\n",
      "Misc 2013-14\n",
      "Misc 2012-13\n",
      "Misc 2011-12\n",
      "Misc 2010-11\n",
      "Misc 2009-10\n",
      "Misc 2008-09\n",
      "Misc 2007-08\n",
      "Misc 2006-07\n",
      "Misc 2005-06\n",
      "Misc 2004-05\n",
      "Misc 2003-04\n",
      "Misc 2002-03\n",
      "Misc 2001-02\n",
      "Misc 2000-01\n",
      "Misc 1999-00\n",
      "Misc 1998-99\n",
      "Misc 1997-98\n",
      "Misc 1996-97\n",
      "Scoring 2015-16\n",
      "Scoring 2014-15\n",
      "Scoring 2013-14\n",
      "Scoring 2012-13\n",
      "Scoring 2011-12\n",
      "Scoring 2010-11\n",
      "Scoring 2009-10\n",
      "Scoring 2008-09\n",
      "Scoring 2007-08\n",
      "Scoring 2006-07\n",
      "Scoring 2005-06\n",
      "Scoring 2004-05\n",
      "Scoring 2003-04\n",
      "Scoring 2002-03\n",
      "Scoring 2001-02\n",
      "Scoring 2000-01\n",
      "Scoring 1999-00\n",
      "Scoring 1998-99\n",
      "Scoring 1997-98\n",
      "Scoring 1996-97\n",
      "Usage 2015-16\n",
      "Usage 2014-15\n",
      "Usage 2013-14\n",
      "Usage 2012-13\n",
      "Usage 2011-12\n",
      "Usage 2010-11\n",
      "Usage 2009-10\n",
      "Usage 2008-09\n",
      "Usage 2007-08\n",
      "Usage 2006-07\n",
      "Usage 2005-06\n",
      "Usage 2004-05\n",
      "Usage 2003-04\n",
      "Usage 2002-03\n",
      "Usage 2001-02\n",
      "Usage 2000-01\n",
      "Usage 1999-00\n",
      "Usage 1998-99\n",
      "Usage 1997-98\n",
      "Usage 1996-97\n"
     ]
    }
   ],
   "source": [
    "browser = webdriver.Chrome(executable_path = chromedriver)\n",
    "# Clutch Stats, 1996-2016, 5 unique parameters\n",
    "for clutch, stats in zip(clutch_stats, clutch_para):\n",
    "    for year in year_data:\n",
    "        print stats, year\n",
    "        # Update and save link into variable\n",
    "        link = clutch % (stats, year)\n",
    "        # Open browser driver through selenium\n",
    "        browser.get(link)\n",
    "        # Save selenium page source into variable\n",
    "        HTML = browser.page_source\n",
    "        # Save page source into beautifulsoup format\n",
    "        soup = BeautifulSoup(HTML)\n",
    "        try:\n",
    "            # Get all text within <pre> tag and decode from utf-8\n",
    "            get_text = soup.findAll('pre')[0].getText().encode('utf-8')\n",
    "            # Load text as json\n",
    "            json_text = json.loads(get_text)\n",
    "            # Save json into pandas dataframe\n",
    "            data = pd.DataFrame(json_text['resultSets'][0]['rowSet'], columns=json_text['resultSets'][0]['headers'])\n",
    "            # Save to csv\n",
    "            save_csv = '/Users/edwardlee/Desktop/PROJECTS/NBA Fantasy Project/datasets/clutch_stats/%s_%s_per48.csv' % (stats,year)\n",
    "            data.to_csv(save_csv)\n",
    "        except:\n",
    "            print 'Failed', link\n",
    "        time.sleep(2*np.random.rand())\n",
    "\n",
    "browser.quit()"
   ]
  },
  {
   "cell_type": "code",
   "execution_count": 27,
   "metadata": {
    "collapsed": false,
    "scrolled": true
   },
   "outputs": [
    {
     "name": "stdout",
     "output_type": "stream",
     "text": [
      "Base 2015-16\n",
      "Base 2014-15\n",
      "Base 2013-14\n",
      "Base 2012-13\n",
      "Base 2011-12\n",
      "Base 2010-11\n",
      "Base 2009-10\n",
      "Base 2008-09\n",
      "Base 2007-08\n",
      "Base 2006-07\n",
      "Base 2005-06\n",
      "Base 2004-05\n",
      "Base 2003-04\n",
      "Base 2002-03\n",
      "Base 2001-02\n",
      "Base 2000-01\n",
      "Base 1999-00\n",
      "Base 1998-99\n",
      "Base 1997-98\n",
      "Base 1996-97\n",
      "Opponent 2015-16\n",
      "Opponent 2014-15\n",
      "Opponent 2013-14\n",
      "Opponent 2012-13\n",
      "Opponent 2011-12\n",
      "Opponent 2010-11\n",
      "Opponent 2009-10\n",
      "Opponent 2008-09\n",
      "Opponent 2007-08\n",
      "Opponent 2006-07\n",
      "Opponent 2005-06\n",
      "Opponent 2004-05\n",
      "Opponent 2003-04\n",
      "Opponent 2002-03\n",
      "Opponent 2001-02\n",
      "Opponent 2000-01\n",
      "Opponent 1999-00\n",
      "Opponent 1998-99\n",
      "Opponent 1997-98\n",
      "Opponent 1996-97\n"
     ]
    }
   ],
   "source": [
    "browser = webdriver.Chrome(executable_path = chromedriver)\n",
    "# Shooting Stats, 1996-2016, 2 unique parameters\n",
    "for shoot, stats in zip(shoot_stats, shoot_para):\n",
    "    for year in year_data:\n",
    "        print stats, year\n",
    "        # Update and save link into variable\n",
    "        link = shoot % (stats, year)\n",
    "        # Open browser driver through selenium\n",
    "        browser.get(link)\n",
    "        # Save selenium page source into variable\n",
    "        HTML = browser.page_source\n",
    "        # Save page source into beautifulsoup format\n",
    "        soup = BeautifulSoup(HTML)\n",
    "        try:\n",
    "            # Get all text within <pre> tag and decode from utf-8\n",
    "            get_text = soup.findAll('pre')[0].getText().encode('utf-8')\n",
    "            # Load text as json\n",
    "            json_text = json.loads(get_text)\n",
    "            # Create custom headers for each dataframe\n",
    "            distance_col = json_text['resultSets']['headers'][0]['columnNames']\n",
    "            distance_col = [col.replace('.','').replace(' ','_').lower() for col in distance_col]\n",
    "            tmp = len(json_text['resultSets']['headers'][1]['columnNames'][:5])\n",
    "            tmp1 = len(json_text['resultSets']['headers'][1]['columnNames'][6:])\n",
    "            new_cols = []\n",
    "\n",
    "            for i in range(tmp):\n",
    "                new_cols.append(json_text['resultSets']['headers'][1]['columnNames'][i])\n",
    "\n",
    "            for col in distance_col:\n",
    "                for i in range(tmp, tmp1):\n",
    "                    save_tmp = json_text['resultSets']['headers'][1]['columnNames'][i]\n",
    "                    name_replace = save_tmp + '_' + col\n",
    "                    new_cols.append(name_replace)\n",
    "                    if save_tmp == 'FG_PCT':\n",
    "                        break\n",
    "                    elif save_tmp == 'OPP_FG_PCT':\n",
    "                        break\n",
    "            # Save json into pandas dataframe\n",
    "            data = pd.DataFrame(json_text['resultSets']['rowSet'], columns=new_cols)\n",
    "            # Save to csv\n",
    "            save_csv = '/Users/edwardlee/Desktop/PROJECTS/NBA Fantasy Project/datasets/shooting_stats/%s_%s.csv' % (stats,year)\n",
    "            data.to_csv(save_csv)\n",
    "        except:\n",
    "            print 'Failed', link\n",
    "\n",
    "        time.sleep(2*np.random.rand())\n",
    "browser.quit()"
   ]
  },
  {
   "cell_type": "code",
   "execution_count": 28,
   "metadata": {
    "collapsed": false,
    "scrolled": true
   },
   "outputs": [
    {
     "name": "stdout",
     "output_type": "stream",
     "text": [
      "2015-16\n",
      "2014-15\n",
      "2013-14\n",
      "2012-13\n",
      "2011-12\n",
      "2010-11\n",
      "2009-10\n",
      "2008-09\n",
      "2007-08\n",
      "2006-07\n",
      "2005-06\n",
      "2004-05\n",
      "2003-04\n",
      "2002-03\n",
      "2001-02\n",
      "2000-01\n",
      "1999-00\n",
      "1998-99\n",
      "1997-98\n",
      "1996-97\n"
     ]
    }
   ],
   "source": [
    "browser = webdriver.Chrome(executable_path = chromedriver)\n",
    "# Player bios, 1996-2016, no unique parameters\n",
    "for year in year_data:\n",
    "    print year\n",
    "    # Update and save link into variable\n",
    "    link = player_bios % year\n",
    "    # Open browser driver through selenium\n",
    "    browser.get(link)\n",
    "    # Save selenium page source into variable\n",
    "    HTML = browser.page_source\n",
    "    # Save page source into beautifulsoup format\n",
    "    soup = BeautifulSoup(HTML)\n",
    "    try:\n",
    "        # Get all text within <pre> tag and decode from utf-8\n",
    "        get_text = soup.findAll('pre')[0].getText().encode('utf-8')\n",
    "        # Load text as json\n",
    "        json_text = json.loads(get_text)\n",
    "        # Save json into pandas dataframe\n",
    "        data = pd.DataFrame(json_text['resultSets'][0]['rowSet'], columns=json_text['resultSets'][0]['headers'])\n",
    "        # Save to csv\n",
    "        save_csv = '/Users/edwardlee/Desktop/PROJECTS/NBA Fantasy Project/datasets/player_bios/%s_%s.csv' % ('bios',year)\n",
    "        data.to_csv(save_csv)\n",
    "    except:\n",
    "        print 'Failed', link\n",
    "    time.sleep(2*np.random.rand())\n",
    "\n",
    "browser.quit()"
   ]
  },
  {
   "cell_type": "code",
   "execution_count": 27,
   "metadata": {
    "collapsed": true
   },
   "outputs": [],
   "source": [
    "browser = webdriver.Chrome(executable_path = chromedriver)\n",
    "# Hustle Stats, 1 season, no unique parameters\n",
    "\n",
    "# Update and save link into variable\n",
    "link = hustle\n",
    "# Open browser driver through selenium\n",
    "browser.get(link)\n",
    "# Save selenium page source into variable\n",
    "HTML = browser.page_source\n",
    "# Save page source into beautifulsoup format\n",
    "soup = BeautifulSoup(HTML)\n",
    "# Get all text within <pre> tag and decode from utf-8\n",
    "get_text = soup.findAll('pre')[0].getText().encode('utf-8')\n",
    "# Load text as json\n",
    "json_text = json.loads(get_text)\n",
    "# Save json into pandas dataframe\n",
    "data = pd.DataFrame(json_text['resultSets'][0]['rowSet'], columns=json_text['resultSets'][0]['headers'])\n",
    "# Save to csv\n",
    "save_csv = '/Users/edwardlee/Desktop/PROJECTS/NBA Fantasy Project/datasets/other_stats/%s_%s.csv' % ('hustle','2015-16')\n",
    "data.to_csv(save_csv)\n",
    "\n",
    "browser.quit()"
   ]
  },
  {
   "cell_type": "code",
   "execution_count": 28,
   "metadata": {
    "collapsed": false,
    "scrolled": true
   },
   "outputs": [
    {
     "name": "stdout",
     "output_type": "stream",
     "text": [
      "All Seasons\n",
      "Failed http://stats.nba.com/stats/leaguegamelog?Counter=1000&Direction=DESC&LeagueID=00&PlayerOrTeam=P&Season=All Seasons&SeasonType=Regular+Season&Sorter=DATE\n",
      "2015-16\n",
      "2014-15\n",
      "2013-14\n",
      "2012-13\n",
      "2011-12\n",
      "2010-11\n",
      "2009-10\n",
      "2008-09\n",
      "2007-08\n",
      "2006-07\n",
      "2005-06\n",
      "2004-05\n",
      "2003-04\n",
      "2002-03\n",
      "2001-02\n",
      "2000-01\n",
      "1999-00\n",
      "1998-99\n",
      "1997-98\n",
      "1996-97\n",
      "1995-96\n",
      "1994-95\n",
      "1993-94\n",
      "1992-93\n",
      "1991-92\n",
      "1990-91\n",
      "1989-90\n",
      "1988-89\n",
      "1987-88\n",
      "1986-87\n",
      "1985-86\n",
      "1984-85\n",
      "1983-84\n",
      "1982-83\n",
      "1981-82\n",
      "1980-81\n",
      "1979-80\n",
      "1978-79\n",
      "1977-78\n",
      "1976-77\n",
      "1975-76\n",
      "1974-75\n",
      "1973-74\n",
      "1972-73\n",
      "1971-72\n",
      "1970-71\n",
      "1969-70\n",
      "1968-69\n",
      "1967-68\n",
      "1966-67\n",
      "1965-66\n",
      "1964-65\n",
      "1963-64\n",
      "1962-63\n",
      "1961-62\n",
      "1960-61\n",
      "1959-60\n",
      "1958-59\n",
      "1957-58\n",
      "1956-57\n",
      "1955-56\n",
      "1954-55\n",
      "1953-54\n",
      "1952-53\n",
      "1951-52\n",
      "1950-51\n",
      "1949-50\n",
      "1948-49\n",
      "1947-48\n",
      "1946-47\n"
     ]
    }
   ],
   "source": [
    "browser = webdriver.Chrome(executable_path = chromedriver)\n",
    "# Game Logs per Season, 1946-2016, no unique parameters\n",
    "for year in logs_year:\n",
    "    print year\n",
    "    # Update and save link into variable\n",
    "    link = game_log % year\n",
    "    # Open browser driver through selenium\n",
    "    browser.get(link)\n",
    "    # Save selenium page source into variable\n",
    "    HTML = browser.page_source\n",
    "    # Save page source into beautifulsoup format\n",
    "    soup = BeautifulSoup(HTML)\n",
    "    try:\n",
    "        # Get all text within <pre> tag and decode from utf-8\n",
    "        get_text = soup.findAll('pre')[0].getText().encode('utf-8')\n",
    "        # Load text as json\n",
    "        json_text = json.loads(get_text)\n",
    "        # Save json into pandas dataframe\n",
    "        data = pd.DataFrame(json_text['resultSets'][0]['rowSet'], columns=json_text['resultSets'][0]['headers'])\n",
    "        # Save to csv\n",
    "        save_csv = '/Users/edwardlee/Desktop/PROJECTS/NBA Fantasy Project/datasets/gamelogs/%s_%s.csv' % ('gamelogs',year)\n",
    "        data.to_csv(save_csv)\n",
    "    except:\n",
    "        print 'Failed', link\n",
    "    time.sleep(5*np.random.rand())    "
   ]
  },
  {
   "cell_type": "markdown",
   "metadata": {},
   "source": [
    "# Scrap Yahoo, ESPN, CBS 2016-17 Preseason Ranking"
   ]
  },
  {
   "cell_type": "code",
   "execution_count": 14,
   "metadata": {
    "collapsed": false
   },
   "outputs": [
    {
     "name": "stdout",
     "output_type": "stream",
     "text": [
      "Scrap Completed\n"
     ]
    }
   ],
   "source": [
    "# ESPN Preseason Ranking\n",
    "rank_list = []\n",
    "playername_list = []\n",
    "for startIndex in range(0, 680, 40):\n",
    "    url_format = \"http://games.espn.com/fba/tools/projections?startIndex=%d\" % startIndex\n",
    "    r = requests.get(url_format)\n",
    "    \n",
    "    HTML = r.text\n",
    "    rank_data = Selector(text=HTML).xpath(\"//td[@class='playertableData']/text()\").extract()\n",
    "    rank_list += rank_data\n",
    "    playername_data = Selector(text=HTML).xpath(\"//td[@class='playertablePlayerName']//a//text()\").extract()\n",
    "    playername_list += playername_data\n",
    "    time.sleep(2*np.random.rand())\n",
    "\n",
    "print 'Scrap Completed'"
   ]
  },
  {
   "cell_type": "code",
   "execution_count": 22,
   "metadata": {
    "collapsed": false
   },
   "outputs": [],
   "source": [
    "rank_list = filter(lambda a: a != 'RNK', rank_list)"
   ]
  },
  {
   "cell_type": "code",
   "execution_count": 23,
   "metadata": {
    "collapsed": false
   },
   "outputs": [
    {
     "data": {
      "text/plain": [
       "(680, 680)"
      ]
     },
     "execution_count": 23,
     "metadata": {},
     "output_type": "execute_result"
    }
   ],
   "source": [
    "len(rank_list), len(playername_list)"
   ]
  },
  {
   "cell_type": "code",
   "execution_count": 26,
   "metadata": {
    "collapsed": false
   },
   "outputs": [],
   "source": [
    "espn_ranking = pd.DataFrame({'ESPNRank_16-17':rank_list, 'PLAYER_NAME': playername_list})"
   ]
  },
  {
   "cell_type": "code",
   "execution_count": 47,
   "metadata": {
    "collapsed": true
   },
   "outputs": [],
   "source": [
    "espn_ranking.to_csv('/Users/edwardlee/Desktop/PROJECTS/NBA Fantasy Project/rank_project/comparison_dataset/2016-17_espn_rank.csv')"
   ]
  },
  {
   "cell_type": "code",
   "execution_count": 29,
   "metadata": {
    "collapsed": false
   },
   "outputs": [
    {
     "name": "stdout",
     "output_type": "stream",
     "text": [
      "Scrap Completed\n"
     ]
    }
   ],
   "source": [
    "# CBS Preseason Ranking\n",
    "rank_list = []\n",
    "playername_list = []\n",
    "\n",
    "url_format = \"http://www.cbssports.com/fantasy/basketball/draft/averages?&print_rows=9999\"\n",
    "r = requests.get(url_format)\n",
    "\n",
    "HTML = r.text\n",
    "rank_data = Selector(text=HTML).xpath(\"//tr[@class='row1']/td[1]/text()\").extract()\n",
    "rank_data_2 = Selector(text=HTML).xpath(\"//tr[@class='row2']/td[1]/text()\").extract()\n",
    "rank_list += rank_data\n",
    "rank_list += rank_data_2\n",
    "playername_data = Selector(text=HTML).xpath(\"//tr[@class='row1']/td[2]/a/text()\").extract()\n",
    "playername_data_2 = Selector(text=HTML).xpath(\"//tr[@class='row2']/td[2]/a/text()\").extract()\n",
    "playername_list += playername_data\n",
    "playername_list += playername_data_2\n",
    "time.sleep(2*np.random.rand())\n",
    "\n",
    "print 'Scrap Completed'"
   ]
  },
  {
   "cell_type": "code",
   "execution_count": 31,
   "metadata": {
    "collapsed": false
   },
   "outputs": [
    {
     "data": {
      "text/plain": [
       "(230, 230)"
      ]
     },
     "execution_count": 31,
     "metadata": {},
     "output_type": "execute_result"
    }
   ],
   "source": [
    "len(rank_list), len(playername_list)"
   ]
  },
  {
   "cell_type": "code",
   "execution_count": 32,
   "metadata": {
    "collapsed": true
   },
   "outputs": [],
   "source": [
    "cbs_ranking = pd.DataFrame({'CBSRank_16-17':rank_list, 'PLAYER_NAME': playername_list})"
   ]
  },
  {
   "cell_type": "code",
   "execution_count": 38,
   "metadata": {
    "collapsed": false
   },
   "outputs": [],
   "source": [
    "cbs_ranking['CBSRank_16-17'] = cbs_ranking['CBSRank_16-17'].astype(int)"
   ]
  },
  {
   "cell_type": "code",
   "execution_count": 42,
   "metadata": {
    "collapsed": false
   },
   "outputs": [],
   "source": [
    "cbs_ranking = cbs_ranking.sort_values('CBSRank_16-17', ascending=True).reset_index(drop=True)"
   ]
  },
  {
   "cell_type": "code",
   "execution_count": 45,
   "metadata": {
    "collapsed": false
   },
   "outputs": [],
   "source": [
    "cbs_ranking.to_csv('/Users/edwardlee/Desktop/PROJECTS/NBA Fantasy Project/rank_project/comparison_dataset/2016-17_cbs_rank.csv')"
   ]
  },
  {
   "cell_type": "code",
   "execution_count": null,
   "metadata": {
    "collapsed": true
   },
   "outputs": [],
   "source": [
    "# import requests\n",
    "\n",
    "# url = \"http://stats.nba.com/league/team/#!/advanced/\"\n",
    "# headers = {'User-Agent': 'Mozilla/5.0 (Macintosh; Intel Mac OS X 10_10_1) AppleWebKit/537.36 (KHTML, like Gecko) Chrome/39.0.2171.99 Safari/537.36'}\n",
    "\n",
    "# with requests.Session() as session:\n",
    "#     session.headers = headers\n",
    "#     session.get(url, headers=headers)\n",
    "\n",
    "#     params = {\n",
    "#         'DateFrom': '',\n",
    "#         'DateTo': '',\n",
    "#         'GameScope': '',\n",
    "#         'GameSegment': '',\n",
    "#         'LastNGames': '0',\n",
    "#         'LeagueID': '00',\n",
    "#         'Location': '',\n",
    "#         'MeasureType': 'Advanced',\n",
    "#         'Month': '0',\n",
    "#         'OpponentTeamID': '0',\n",
    "#         'Outcome': '',\n",
    "#         'PaceAdjust': 'N',\n",
    "#         'PerMode': 'Totals',\n",
    "#         'Period': '0',\n",
    "#         'PlayerExperience': '',\n",
    "#         'PlayerPosition': '',\n",
    "#         'PlusMinus': 'N',\n",
    "#         'Rank': 'N',\n",
    "#         'Season': '2014-15',\n",
    "#         'SeasonSegment': '',\n",
    "#         'SeasonType': 'Regular Season',\n",
    "#         'StarterBench': '',\n",
    "#         'VsConference': '',\n",
    "#         'VsDivision': ''\n",
    "#     }\n",
    "\n",
    "#     response = session.get('http://stats.nba.com/stats/leaguedashteamstats', params=params)\n",
    "#     results = response.json()\n",
    "#     headers = results['resultSets'][0]['headers']\n",
    "#     rows = results['resultSets'][0]['rowSet']\n",
    "#     for row in rows:\n",
    "#         print(dict(zip(headers, row)))"
   ]
  }
 ],
 "metadata": {
  "anaconda-cloud": {},
  "kernelspec": {
   "display_name": "Python [dsi]",
   "language": "python",
   "name": "Python [dsi]"
  },
  "language_info": {
   "codemirror_mode": {
    "name": "ipython",
    "version": 2
   },
   "file_extension": ".py",
   "mimetype": "text/x-python",
   "name": "python",
   "nbconvert_exporter": "python",
   "pygments_lexer": "ipython2",
   "version": "2.7.12"
  }
 },
 "nbformat": 4,
 "nbformat_minor": 0
}
